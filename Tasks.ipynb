{
 "cells": [
  {
   "cell_type": "markdown",
   "metadata": {},
   "source": [
    "# Tasks\n",
    "Solutions to Ian McLoughlin's Tasks assessment, by Fintan Hegarty (fintan.hegarty@gmail.com) \n",
    "***"
   ]
  },
  {
   "cell_type": "markdown",
   "metadata": {},
   "source": [
    "## Task 1\n",
    "\n",
    "#### Calculate the square root of 2 to 100 decimal places"
   ]
  },
  {
   "cell_type": "markdown",
   "metadata": {},
   "source": [
    "In Example 1.1, we give a toy example. Approaches 1.2 and 1.4 fail due to insufficient computing power and precision. Approach 1.5 uses the digit-by-digit method and works. Testing 1.3 grabs the correct value for $\\sqrt{2}$ from both the sympy module and a website. Comparison 1.6 checks that our answer from Approach 1.5 is correct. \n",
    "\n",
    "[Final Answer](#sqrt-FA) is the function to compute and print the square root of two to 100 decimal places, and its execution.\n"
   ]
  },
  {
   "cell_type": "markdown",
   "metadata": {},
   "source": [
    "#### Example 1.1 Calculate the square root of 2 to ten decimal places "
   ]
  },
  {
   "cell_type": "markdown",
   "metadata": {},
   "source": [
    "We can calculate the square root of a number using Newton's method [<sup>1,</sup>](#sqrt-on-on)[<sup>2</sup>](#sqrt-on-tw).\n",
    "To find the square root $z$ of a number $x$, we iterate using the following formula, until a satisfactory error bound is met:\n",
    "\n",
    "$$ z_{i+1} = z_i-\\frac{z_i^2-x}{2z_i} $$\n"
   ]
  },
  {
   "cell_type": "code",
   "execution_count": 1,
   "metadata": {
    "collapsed": true
   },
   "outputs": [],
   "source": [
    "def newton_sqrt(x):\n",
    "    \"\"\"\n",
    "    A function to calculate the square root of a number x\n",
    "    \"\"\"\n",
    "    # initial guess for sqrt z\n",
    "    z=x/2\n",
    "    # loop until satisfactory guess\n",
    "    while abs(x - z*z) >0.0000000001 :\n",
    "        # make a better guess\n",
    "        z -= (z*z - x)/(2*z)\n",
    "    # return sufficiently close approximation to sqrt x.\n",
    "    # return ('{0:.10f}'.format(z))\n",
    "    return (round(z,10))    "
   ]
  },
  {
   "cell_type": "markdown",
   "metadata": {},
   "source": [
    "We test the function with some known values"
   ]
  },
  {
   "cell_type": "code",
   "execution_count": 2,
   "metadata": {},
   "outputs": [
    {
     "data": {
      "text/plain": [
       "10.0"
      ]
     },
     "execution_count": 2,
     "metadata": {},
     "output_type": "execute_result"
    }
   ],
   "source": [
    "# Test the function on 100\n",
    "newton_sqrt(100)"
   ]
  },
  {
   "cell_type": "code",
   "execution_count": 3,
   "metadata": {},
   "outputs": [
    {
     "data": {
      "text/plain": [
       "6.0"
      ]
     },
     "execution_count": 3,
     "metadata": {},
     "output_type": "execute_result"
    }
   ],
   "source": [
    "# Test the function on 36\n",
    "newton_sqrt(36)"
   ]
  },
  {
   "cell_type": "code",
   "execution_count": 4,
   "metadata": {},
   "outputs": [
    {
     "data": {
      "text/plain": [
       "1.4142135624"
      ]
     },
     "execution_count": 4,
     "metadata": {},
     "output_type": "execute_result"
    }
   ],
   "source": [
    "# Test the function on 2\n",
    "newton_sqrt(2)"
   ]
  },
  {
   "cell_type": "code",
   "execution_count": 5,
   "metadata": {},
   "outputs": [
    {
     "name": "stdout",
     "output_type": "stream",
     "text": [
      "numpy's value is\n",
      " 1.4142135623730951\n",
      "newton_sqrt's value is\n",
      " 1.4142135624\n",
      "They are different.\n"
     ]
    }
   ],
   "source": [
    "# Compare with numpy's sqrt function\n",
    "# (This does necessitate an import, which is presumably fine.)\n",
    "import numpy as np\n",
    "numpy_sqrttwo_value = np.sqrt(2)\n",
    "print(\"numpy's value is\\n\",'{0:.16f}'.format(numpy_sqrttwo_value))\n",
    "print(\"newton_sqrt's value is\\n\", newton_sqrt(2))\n",
    "\n",
    "if float(numpy_sqrttwo_value) == float(newton_sqrt(2)):\n",
    "    print(\"They are the same.\")\n",
    "else:\n",
    "    print(\"They are different.\")\n",
    "    "
   ]
  },
  {
   "cell_type": "markdown",
   "metadata": {},
   "source": [
    "This is not wholly surprising, and in any event, we're just comparing the printed values, as opposed to the actual value of the numbers we are describing. Using round instead:"
   ]
  },
  {
   "cell_type": "code",
   "execution_count": 6,
   "metadata": {},
   "outputs": [
    {
     "name": "stdout",
     "output_type": "stream",
     "text": [
      "numpy's value is\n",
      " 1.4142135624\n",
      "newton_sqrt's value is\n",
      " 1.4142135624\n",
      "They are the same.\n"
     ]
    }
   ],
   "source": [
    "# Compare with numpy's sqrt function using round\n",
    "import numpy as np\n",
    "numpy_sqrttwo_value_rounded = round(np.sqrt(2),10)\n",
    "newton_sqrttwo_rounded = round(newton_sqrt(2),10)\n",
    "print(\"numpy's value is\\n\", numpy_sqrttwo_value_rounded)\n",
    "print(\"newton_sqrt's value is\\n\", round(newton_sqrt(2),10))\n",
    "\n",
    "if numpy_sqrttwo_value_rounded==newton_sqrttwo_rounded:\n",
    "    print(\"They are the same.\")\n",
    "else:\n",
    "    print(\"They are different.\")\n"
   ]
  },
  {
   "cell_type": "markdown",
   "metadata": {},
   "source": [
    "#### Attempt 1.2\n",
    "\n",
    "The method used in Example 1.1 will not work for the square root of 100, as the computer can't handle it. Therefore we try a version of the Babylonian method, borrowed from Wikipedia[<sup>3</sup>](#sqrt-on-th)\n",
    "\n",
    "The formula here is\n",
    "\n",
    "$$ a_{i+1} = \\frac{a_i}{2}+\\frac{1}{i} $$"
   ]
  },
  {
   "cell_type": "code",
   "execution_count": 7,
   "metadata": {
    "collapsed": true
   },
   "outputs": [],
   "source": [
    "def bab_sqrt(x):\n",
    "    \"\"\"\n",
    "    A function to calculate the square root of a number x, hopefully more efficiently\n",
    "    than the Newton method.\n",
    "    \"\"\"\n",
    "    # initial guess for sqrt z\n",
    "    a=1\n",
    "    for i in range(1,100):\n",
    "    # loop until satisfactory guess\n",
    "        while abs(x - a*a) >0.000000000000001 :\n",
    "        # make a better guess\n",
    "            a = (a/2)+(1/a)\n",
    "    # return sufficiently close approximation to sqrt x.\n",
    "    return ('{0:.100f}'.format(a))\n",
    "    # print(float(\"{0:.100f}\".format(a)))\n",
    "    # print(round(a,100))"
   ]
  },
  {
   "cell_type": "code",
   "execution_count": 8,
   "metadata": {},
   "outputs": [
    {
     "data": {
      "text/plain": [
       "'1.4142135623730949234300169337075203657150268554687500000000000000000000000000000000000000000000000000'"
      ]
     },
     "execution_count": 8,
     "metadata": {},
     "output_type": "execute_result"
    }
   ],
   "source": [
    "bab_sqrt(2)"
   ]
  },
  {
   "cell_type": "markdown",
   "metadata": {},
   "source": [
    "These digits appear to be inaccurate (visually - though we compare below so we have the method for when it is less obvious) according to the NASA website[<sup>4</sup>](#sqrt-on-fo) listing of the number (or the value from sympy, as given below), and equally problematically, a load of zeros are being uselessly printed instead of the actual digits. However, the method appears to be sufficiently fast that it actually runs, so that's a plus."
   ]
  },
  {
   "cell_type": "markdown",
   "metadata": {},
   "source": [
    "#### Testing 1.3\n",
    "We grab the value of the square root of 2 from nasa.gov [<sup>4</sup>](#sqrt-on-fo) (and also using sqrt from sympy), for a comparison with the value we get, to confirm its accuracy."
   ]
  },
  {
   "cell_type": "code",
   "execution_count": 9,
   "metadata": {},
   "outputs": [
    {
     "name": "stdout",
     "output_type": "stream",
     "text": [
      "The correct value of square root two to 100 places is\n",
      " 1.4142135623730950488016887242096980785696718753769480731766797379907324784621070388503875343276415727\n"
     ]
    }
   ],
   "source": [
    "# (This does necessitate imports for grabbing data and regexing, which is presumably fine,\n",
    "#   as we are only using it for comparison, as opposed to calculating.)\n",
    "import requests\n",
    "import re\n",
    "# Grab page content as string\n",
    "page = requests.get(\"https://apod.nasa.gov/htmltest/gifcity/sqrt2.1mil\").text\n",
    "\n",
    "# Get rid of newlines\n",
    "page = page.replace(\"\\n\",\"\")\n",
    "\n",
    "# Search for string beginning with 1.4 and grab the following 99 digits\n",
    "# group(0) just takes the actual string as opposed to the object\n",
    "real_sqrttwo_value = re.search(\"1.4\\d{99}\", page).group(0)\n",
    "print(\"The correct value of square root two to 100 places is\\n\", real_sqrttwo_value)"
   ]
  },
  {
   "cell_type": "code",
   "execution_count": 10,
   "metadata": {
    "scrolled": true
   },
   "outputs": [
    {
     "name": "stdout",
     "output_type": "stream",
     "text": [
      "1.4142135623730950488016887242096980785696718753769480731766797379907324784621070388503875343276415727\n"
     ]
    }
   ],
   "source": [
    "# Again, this import is just for comparison.\n",
    "from sympy import sqrt\n",
    "sympy_sqrttwo_value=sqrt(2).evalf(101)\n",
    "print(sympy_sqrttwo_value)"
   ]
  },
  {
   "cell_type": "code",
   "execution_count": 11,
   "metadata": {},
   "outputs": [
    {
     "name": "stdout",
     "output_type": "stream",
     "text": [
      "They are different.\n",
      "They are the same.\n"
     ]
    }
   ],
   "source": [
    "if round(float(bab_sqrt(2)),100)==round(float(real_sqrttwo_value),100):\n",
    "    print (\"They are the same.\")\n",
    "else:\n",
    "    print (\"They are different.\")\n",
    "    \n",
    "if round(float(sympy_sqrttwo_value),100)==round(float(real_sqrttwo_value),100):\n",
    "    print (\"They are the same.\")\n",
    "else:\n",
    "    print (\"They are different.\")\n",
    "    "
   ]
  },
  {
   "cell_type": "markdown",
   "metadata": {},
   "source": [
    "#### Approach 1.4\n",
    "\n",
    "The decimal precision appears problematic. Perhaps we can calculate the same number to some power of 10, to give the correct digits, with only the decimal point misplaced?\n",
    "If $n=\\sqrt{2}$, then $10n=\\sqrt{100\\times 2}$, so to calculate $n$ we can calculate $\\sqrt{100\\times 2}$ and move the decimal point one place to the right."
   ]
  },
  {
   "cell_type": "code",
   "execution_count": 12,
   "metadata": {},
   "outputs": [
    {
     "name": "stdout",
     "output_type": "stream",
     "text": [
      "n is  1.4142135624\n",
      "n is  14.1421356237  with the decimal to be moved one space to the right.\n"
     ]
    }
   ],
   "source": [
    "n=newton_sqrt(2)\n",
    "print('n is ',n)\n",
    "f=newton_sqrt(100*2)\n",
    "print('n is ',f,' with the decimal to be moved one space to the right.')"
   ]
  },
  {
   "cell_type": "markdown",
   "metadata": {},
   "source": [
    "Let $n=\\sqrt{2}$. Let $f$ (the 'fake' evaluation, whose decimal point we will move) be $10^{100}$ times bigger than $\\sqrt{2}$ (so the decimal point will be 100 places to the left of where we want it). So the number under the square root sign will be $ 10^{200}$ times bigger than $2$; i.e., $f=\\sqrt{2\\times10^{200}}$, and then we will move the decimal point 100 places to the right.\n"
   ]
  },
  {
   "cell_type": "code",
   "execution_count": 13,
   "metadata": {},
   "outputs": [
    {
     "name": "stdout",
     "output_type": "stream",
     "text": [
      "141.4213562372999888339109020307660102844238281250000000000000000000000000000000000000000000000000000000\n"
     ]
    }
   ],
   "source": [
    "f = 2*10**(4) \n",
    "answer = format(newton_sqrt(f), ',.100f') \n",
    "print(answer)"
   ]
  },
  {
   "cell_type": "markdown",
   "metadata": {},
   "source": [
    "This appears to be on the right track, but the newton_sqrt method is struggling for bigger powers, so a different approach to newton_sqrt may be required."
   ]
  },
  {
   "cell_type": "markdown",
   "metadata": {},
   "source": [
    "#### Approach 1.5\n",
    "We will try the digit-by-digit approach of calculating the square root, as detailed, for example on Wikipedia.[<sup>5</sup>](#sqrt-on-fi)\n",
    "Though the idea used here is largely the same as there, we can take some short-cuts; e.g., we know we start with 2, and that all we will add to the right-hand side will be pairs of zeros."
   ]
  },
  {
   "cell_type": "code",
   "execution_count": 14,
   "metadata": {},
   "outputs": [
    {
     "name": "stdout",
     "output_type": "stream",
     "text": [
      "14142135623730950488016887242096980785696718753769480731766797379907324784621070388503875343276415727\n"
     ]
    }
   ],
   "source": [
    "# Initialise values\n",
    "# I've used c and r where only c is mentioned on wikipedia, but they're just different stages of the same thing.\n",
    "c=2; x=0; y=0; r=0; A=0; p=0;\n",
    "\n",
    "# Handling the first iteration separately makes the loop less complicated to write\n",
    "while (x+1)*(20*p+(x+1))<=2:\n",
    "    x=x+1\n",
    "y=x*(20*p+x)\n",
    "r=c-y\n",
    "A=x\n",
    "\n",
    "# This is simpler than the example on the wiki, because we know we are only appending\n",
    "# 00s, so no need for dividing up part of a string and grabbing two pieces, etc.\n",
    "# We do end up with a number 10^100 times bigger than what we want, because we've\n",
    "# ignored the decimals, but I'll stick that in afterwards.\n",
    "for i in range(1,101):\n",
    "    c=100*r; x=0; y=0; p=A;\n",
    "    while (x+1)*((20*p)+(x+1))<=c:\n",
    "        x=x+1\n",
    "    y=x*(20*p+x)\n",
    "    r=c-y\n",
    "    # This serves the purpose of appending x to A\n",
    "    A=A*10+x\n",
    "print(A)"
   ]
  },
  {
   "cell_type": "code",
   "execution_count": 15,
   "metadata": {},
   "outputs": [
    {
     "name": "stdout",
     "output_type": "stream",
     "text": [
      "1.4142135623730951454746218587388284504413604736328125000000000000000000000000000000000000000000000000\n"
     ]
    }
   ],
   "source": [
    "Ans=format(A/(10**100), ',.100f')\n",
    "print(Ans)"
   ]
  },
  {
   "cell_type": "markdown",
   "metadata": {},
   "source": [
    "I guess we'll have to preserve it as a string, and just insert the decimal point."
   ]
  },
  {
   "cell_type": "code",
   "execution_count": 16,
   "metadata": {},
   "outputs": [
    {
     "name": "stdout",
     "output_type": "stream",
     "text": [
      "1.4142135623730950488016887242096980785696718753769480731766797379907324784621070388503875343276415727\n"
     ]
    }
   ],
   "source": [
    "# Sticking in the decimal\n",
    "stringA=str(A)\n",
    "Ans=stringA[:1] + '.' + stringA[1:]\n",
    "print(Ans)"
   ]
  },
  {
   "cell_type": "markdown",
   "metadata": {},
   "source": [
    "#### Comparison 1.6\n",
    "We compare the string with actual values acquired from sympy and nasa website to confirm accuracy. (Also with the incorrect (excessively rounded) value from numpy as a control. "
   ]
  },
  {
   "cell_type": "code",
   "execution_count": 17,
   "metadata": {},
   "outputs": [
    {
     "name": "stdout",
     "output_type": "stream",
     "text": [
      "True\n",
      "False\n",
      "True\n"
     ]
    }
   ],
   "source": [
    "# Testing by comparing strings\n",
    "print(Ans==str(sympy_sqrttwo_value))\n",
    "print(Ans==str(numpy_sqrttwo_value))\n",
    "print(Ans==str(real_sqrttwo_value))"
   ]
  },
  {
   "cell_type": "markdown",
   "metadata": {},
   "source": [
    "#### Answer 1.7"
   ]
  },
  {
   "cell_type": "code",
   "execution_count": 18,
   "metadata": {},
   "outputs": [
    {
     "name": "stdout",
     "output_type": "stream",
     "text": [
      "The square root of 2, to 100 decimal places is\n",
      " 1.4142135623730950488016887242096980785696718753769480731766797379907324784621070388503875343276415727\n"
     ]
    }
   ],
   "source": [
    "print(\"The square root of 2, to 100 decimal places is\\n\",Ans)"
   ]
  },
  {
   "cell_type": "markdown",
   "metadata": {},
   "source": [
    "\n",
    "#### <span id=\"sqrt-FA\">FINAL ANSWER TO TASK 1:</span>"
   ]
  },
  {
   "cell_type": "code",
   "execution_count": 1,
   "metadata": {
    "collapsed": true
   },
   "outputs": [],
   "source": [
    "def sqrt2():\n",
    "    c=2; x=0; y=0; r=0; A=0; p=0;\n",
    "    while (x+1)*(20*p+(x+1))<=2:\n",
    "        x=x+1\n",
    "    y=x*(20*p+x)\n",
    "    r=c-y\n",
    "    A=x\n",
    "    for i in range(1,101):\n",
    "        c=100*r; x=0; y=0; p=A;\n",
    "        while (x+1)*((20*p)+(x+1))<=c:\n",
    "            x=x+1\n",
    "        y=x*(20*p+x)\n",
    "        r=c-y\n",
    "        A=A*10+x\n",
    "        stringA=str(A)\n",
    "        Ans=stringA[:1] + '.' + stringA[1:]\n",
    "    print(Ans)"
   ]
  },
  {
   "cell_type": "code",
   "execution_count": 2,
   "metadata": {},
   "outputs": [
    {
     "name": "stdout",
     "output_type": "stream",
     "text": [
      "1.4142135623730950488016887242096980785696718753769480731766797379907324784621070388503875343276415727\n"
     ]
    }
   ],
   "source": [
    "sqrt2()"
   ]
  },
  {
   "cell_type": "markdown",
   "metadata": {},
   "source": [
    "***\n",
    "\n",
    "## Task 2\n",
    "| |A|B|C|D|Total\n",
    "| --- | --- | --- | --- | --- | --- |\n",
    "| White collar|90|60|104|95|349 |\n",
    "| Blue collar|30|50|51|20|151|\n",
    "| No collar|30|40|45|35|150|\n",
    "| Total|150|150|200|150|650|\n",
    "\n",
    "#### Use scipy.stats  [<sup>8</sup>](#chi-tw-th) to verify the $\\chi^{2}$ value [<sup>6</sup>](#chi-tw-on) of this table is 24.6, and calculate the associated $p$ value. [<sup>7</sup>](#chi-tw-tw)\n",
    "    \n"
   ]
  },
  {
   "cell_type": "code",
   "execution_count": 21,
   "metadata": {
    "scrolled": true
   },
   "outputs": [
    {
     "name": "stdout",
     "output_type": "stream",
     "text": [
      "               A   B    C   D\n",
      "White collar  90  60  104  95\n",
      "Blue collar   30  50   51  20\n",
      "No collar     30  40   45  35 \n",
      "\n",
      "The test statistic value is 24.5712028585826 . \n",
      "\n",
      "The p value value is 0.0004098425861096696 . \n",
      "\n",
      "There are 6 degrees of freedom. \n",
      "\n",
      "The expected value matrix if neighbourhood and collar were independent would be\n",
      " [[ 80.53846154  80.53846154 107.38461538  80.53846154]\n",
      " [ 34.84615385  34.84615385  46.46153846  34.84615385]\n",
      " [ 34.61538462  34.61538462  46.15384615  34.61538462]] .\n",
      "\n"
     ]
    }
   ],
   "source": [
    "import numpy as np\n",
    "import pandas as pd\n",
    "import scipy.stats as st\n",
    "\n",
    "# First we create the data frame; there's no need to include the totals, as these will\n",
    "# be calculated by python later\n",
    "deets={'A': [90,30,30], 'B': [60,50,40], 'C': [104,51,45], 'D': [95,20,35]}\n",
    "df = pd.DataFrame(data=deets)\n",
    "df.index=[\"White collar\", \"Blue collar\", \"No collar\"]\n",
    "print(df,'\\n')\n",
    "\n",
    "# let scipy.stats do all the hard work, and assign the values\n",
    "chi2, pv, dof, exp  = st.chi2_contingency(df)\n",
    "print('The test statistic value is', chi2, '. \\n')\n",
    "print('The p value value is', pv, '. \\n')\n",
    "print('There are', dof, 'degrees of freedom. \\n')\n",
    "print('The expected value matrix if neighbourhood and collar were independent would be\\n', exp, '.\\n')"
   ]
  },
  {
   "cell_type": "markdown",
   "metadata": {},
   "source": [
    "The p value here (0.00041) is very small, certainly smaller than any alpha level/threshold of significance we are likely to be asked to test for, so we may reject the null hypothesis; i.e., we cannot say that the collar colour and region are independent."
   ]
  },
  {
   "cell_type": "markdown",
   "metadata": {},
   "source": [
    "***\n",
    "# Task 3\n",
    "\n",
    "#### Describe and contrast Excel's STDEV.P and STDEV.S. Use numpy to perform a simulation demonstrating that STDEV.S is a better estimate for the standard deviation of a population when performed on a sample. "
   ]
  },
  {
   "cell_type": "markdown",
   "metadata": {},
   "source": [
    "The formula for the standard deviation [<sup>9</sup>](#std-th-on) of a population is\n",
    "$$\\sigma=\\sqrt{\\frac{\\sum_{i=1}^N(x_i-\\mu)^2}{N}},$$\n",
    "where $N$ is the size of the population and $\\mu$ is the mean of the population.\n",
    "\n",
    "This is calculated in Microsoft Excel [<sup>10</sup>](#std-th-tw) with the function STDEV.P.\n",
    "\n",
    "Often, we do not have a full population, and only have a sample to calculate with. Intuitively, the expected values of the variance and deviation of a sample are greater than those of the population itself. (E.g., selecting 1000 random points from a normal distribution is likely to give a more accurate idea of the spread of the population's data than a sample of just 10 points, where adding one or two extra points could have a large effect on the expected variance and deviation of the sample. As the size of the sample approaches the size of the population, the variability of the values tends to the settle down.)\n",
    "\n",
    "To reduce the value of the formula above, we increase the value of the denominator. \n",
    "This is a somewhat intuitive justification for the amended formula. The \"intuitive\"[<sup>11</sup>](#std-th-th) justification for changing the value of the denominator from $n$ to $n-1$ seems to really be either empirical or algebraic. Empirical support seems to be the latter part of the question, and an algebraic proof seems beyond the scope of the module, so I will refrain from copy and pasting it from, for example, Wikipedia's entry on Bessel's correction[<sup>12</sup>](#std-th-fo). \n",
    "\n",
    "The formula for the standard deviation for a sample (note the denominator change - the other variables are simply statistical analogues of the sample to the population parameters).\n",
    "\n",
    "$$s=\\sqrt{\\frac{\\sum_{i=1}^N(x_i-\\bar{x})^2}{N-1}}.$$\n",
    "\n",
    "This is calculated in Microsoft Excel using STDEV.S.\n",
    "\n",
    "These formulas are not unique to Excel; I will use the LibreOffice functions, since I am not on a Windows machine, but they are identical - even the names STDEV.P[<sup>13</sup>](#std-th-fi) and STDEV.S are the same.\n",
    "\n",
    "\n"
   ]
  },
  {
   "attachments": {},
   "cell_type": "markdown",
   "metadata": {},
   "source": [
    "Before using python to run the simulations, we shall first run a toy example with LibreOffice itself. \n",
    "\n",
    "Using =NORMINV(RAND(),50,10) to generate 1000 random points on a normal distribution about mean 50, with standard deviation 10, we get the following parameters:\n",
    "$\\mu=49.66256017$ and $\\sigma=10.093648$\n",
    "\n",
    "Next we run ten tests, selecting samples of size 100 to see if using STDEV.S is more accurate than STDEV.P (i.e., closer to the real $\\sigma$. I will embolden the more accurate (i.e. the smaller error).\n",
    "\n",
    "| | STDEV.P | STDEV.P error | STDEV.S | STDEV.S error \n",
    "| --- | --- | --- | --- | --- |\n",
    "| Sample 1 | 9.3046374272 |\t0.7047273716 | 10.6078393083 | **0.5984745095** |\n",
    "| Sample 2 | 10.1415558481 | **0.1321910493** | 10.1926471329 | 0.1832823341 |\n",
    "| Sample 3 | 9.7361852347 | 0.2731795642 | 9.7852343372 | **0.2241304616** |\n",
    "| Sample 4 | 9.5072365378 | 0.502128261 | 9.5551322391 | **0.4542325597** |\n",
    "| Sample 5 | 9.9778339813 | 0.0315308175 | 10.0281004656 | **0.0187356668** |\n",
    "| Sample 6 | 10.6518134966 | **0.6424486978** | 10.7054753651 | 0.6961105663 |\n",
    "| Sample 7 | 10.5777728298 | **0.568408031** | 10.6310616952 | 0.6216968963 |\n",
    "| Sample 8 | 10.0698784086 | **0.0605136098** | 10.1206085957 | 0.1112437969 |\n",
    "| Sample 9 | 9.8311596107 | 0.1782051881 | 9.8806871766 | **0.1286776222** |\n",
    "| Sample 10 | 9.75063108 | 0.2587337188 | 9.7997529581 | **0.2096118407** |\n",
    "\n",
    "STDEV.S appears to be slightly more accurate, but nothing definitive. This is because the sample size is very large, so the difference between $n-1$ and $n$ verges on negligible, especially given that the square root thereof is being taken, so any difference can be lost in rounding error.\n",
    "\n",
    "Let us try with smaller samples; here the size of the samples is 30.\n",
    "\n",
    "| | STDEV.P | STDEV.P error | STDEV.S | STDEV.S error\n",
    "| --- | --- | --- | --- | --- |\n",
    "| Sample 11 | 9.7154559039 | 0.3565769483 | 9.8815441042 | **0.190488748** | \n",
    "| Sample 12 | 11.1611084634 | **1.0890756113** | 11.3519104635 | 1.2798776114 | \n",
    "| Sample 13 | 8.193434327 | 1.8785985252 | 8.3335031796 | **1.7385296725** | \n",
    "| Sample 14 | 8.5661010318 | 1.5059318204 | 8.7125407169 | **1.3594921352** | \n",
    "| Sample 15 | 10.0946507718 | **0.0226179197** | 10.2672214052 | 0.1951885531 | \n",
    "| Sample 16 | 8.6089441108 | 1.4630887413 | 8.7561162094 | **1.3159166428** | \n",
    "| Sample 17 | 10.7962155689 | **0.7241827168** | 10.9807796317 | 0.9087467796 | \n",
    "| Sample 18 | 11.4288570799 | **1.3568242278** | 11.624236311 | 1.5522034589 | \n",
    "| Sample 19 | 8.4831631569 | 1.5888696952 | 8.6281849979 | **1.4438478542** | \n",
    "| Sample 20 | 9.5078689204 | 0.5641639317 | 9.6704083682 | **0.4016244839** | \n",
    "\n",
    "Again, it appears the STDEV.S is almost imperceptibly better. Let us reduce the sample size to 20.\n",
    "Population standard deviation here is 9.8009880294\n",
    "\n",
    "| | STDEV.P | STDEV.P error | STDEV.S | STDEV.S error | \n",
    "| --- | --- | --- | --- | --- |\n",
    "| Sample 21 | 8.9543507265 | 0.855529568 | 9.1869700024\t| **0.6229102921** | \n",
    "| Sample 22 | 7.173992363 | 2.6358879315 | 7.3603608624 | **2.449519432** | \n",
    "| Sample 23 | 9.1693162757 | 0.6405640188 | 9.4075200023 | **0.4023602922** | \n",
    "| Sample 24 | 6.6062972858 | 3.2035830087 | 6.7779180026 | **3.0319622918** | \n",
    "| Sample 25 | 9.7734860099 | **0.0363942846** | 10.0273850705 | 0.2175047761 | \n",
    "| Sample 26 | 7.5169705153 | 2.2929097792 | 7.712249022 | **2.0976312725** | \n",
    "| Sample 27 | 7.2992629442 | 2.5106173503 | 7.4888857669 | **2.3209945275** | \n",
    "| Sample 28 | 8.5553287119 | 1.2545515826 | 8.7775820534 | **1.0322982411** | \n",
    "| Sample 29 | 10.2223885418 | **0.4125082473** | 10.4879493505 | 0.678069056 | \n",
    "| Sample 30 | 10.2358938189 | **0.4260135245** | 10.5018054725 | 0.691925178 | \n",
    "\n",
    "It is a little clearer here that STDEV.S is an improvement over STDEV.P, but it's not as clear-cut as I would like it to be before moving on, so let us try sample sizes of 15, and then hopefully we can move on from this increasingly inaccurately named toy example. Population here 9.853738619. (These values are slightly different because the random data points regenerate each turn).\n",
    "\n",
    "| | STDEV.P | STDEV.P error | STDEV.S | STDEV.S error | \n",
    "| --- | --- | --- | --- | --- |\n",
    "| Sample 31 | 7.49088399 | 2.3628546294 | 7.7538015758 | **2.0999370436** |\n",
    "| Sample 32 | 7.2096096068 | 2.6441290126 | 7.4626549289 | **2.3910836904** | \n",
    "| Sample 33 | 5.6865952012 | 4.1671434182 | 5.8861852474 | **3.967553372** | \n",
    "| Sample 34 | 6.9213163568 | 2.9324222625 | 7.1642430647 | **2.6894955546** | \n",
    "| Sample 35 | 5.8503851354 | 4.003353484 | 6.0557239362 | **3.7980146831** | \n",
    "| Sample 36 | 9.1134699117 | 0.7402687077 | 9.4333375682 | **0.4204010511** | \n",
    "| Sample 37| 10.6467176607 | **0.7929790413** | 11.0203997665 | 1.1666611471 | \n",
    "| Sample 38 | 9.5626527735 | 0.2910858458 | 9.8982860024 | **0.0445473831** | \n",
    "| Sample 39 |4.9724232579 | 4.8813153614 | 5.1469470551 | **4.7067915642** | \n",
    "| Sample 40 | 11.9735258233 | **2.119787204** | 12.3937766919 | 2.5400380725 | \n",
    "\n",
    "This seems illustrative that STDEV.S is an improvement over STDEV.P for sufficiently small samples.\n",
    "A quote from Press et al.[<sup>14</sup>](#std-th-si) feels appropriate at this juncture...\n",
    "\n",
    "*\"...if the difference between $n$ and $n-1$ ever matters to you, then you are probably up to no good anyway – e.g. trying to substantiate a questionable hypothesis with marginal data...\"*\n",
    "\n",
    "\n"
   ]
  },
  {
   "cell_type": "markdown",
   "metadata": {},
   "source": [
    "## References\n",
    "<span id=\"sqrt-on-on\"> 1. A Tour of Go: Loops and Functions https://tour.golang.org/flowcontrol/8</span>\n",
    "\n",
    "<span id=\"sqrt-on-tw\"> 2. Newton's method: https://en.wikipedia.org/wiki/Newton%27s_method</span>\n",
    "\n",
    "<span id=\"sqrt-on-th\"> 3. Babylonian method: https://en.wikipedia.org/wiki/Square_root_of_2</span>\n",
    "\n",
    "<span id=\"sqrt-on-fo\"> 4. Accurate square root of 2: https://apod.nasa.gov/htmltest/gifcity/sqrt2.1mil</span>\n",
    "\n",
    "<span id=\"sqrt-on-fi\"> 5. Digit-by-digit method of calculating square root: https://en.wikipedia.org/wiki/Methods_of_computing_square_roots#Digit-by-digit_calculation</span>\n",
    "\n",
    "<span id=\"chi-tw-on\"> 6. Chi-squared test: https://en.wikipedia.org/wiki/Chi-squared_test</span>\n",
    "\n",
    "<span id=\"chi-tw-tw\"> 7. p-value: https://www.simplypsychology.org/p-value.html</span>\n",
    "\n",
    "<span id=\"chi-tw-th\"> 8. scipy.stats manual: https://docs.scipy.org/doc/scipy/reference/generated/scipy.stats.chi2_contingency.html</span>\n",
    "\n",
    "<span id=\"std-th-on\"> 9. Standard deviation https://en.wikipedia.org/wiki/Standard_deviation</span>\n",
    "\n",
    "<span id=\"std-th-tw\"> 10. STDEV Microsoft https://support.microsoft.com/en-us/office/stdev-s-function-7d69cf97-0c1f-4acf-be27-f3e83904cc23</span>\n",
    "\n",
    "<span id=\"std-th-th\"> 11. StackExchange's attempt at intuitive explanation https://stats.stackexchange.com/questions/3931/intuitive-explanation-for-dividing-by-n-1-when-calculating-standard-deviation\n",
    "\n",
    "<span id=\"std-th-fo\"> 12. Bessel's correction https://en.wikipedia.org/wiki/Bessel%27s_correction</span>\n",
    "\n",
    "<span id=\"std-th-fi\"> 13. LibreOffice functions https://help.libreoffice.org/Calc/Statistical_Functions_Part_Five#STDEV.P</span>\n",
    "\n",
    "<span id=\"std-th-si\"> 14. Quote http://iate.oac.uncor.edu/~mario/materia/nr/numrec/f14-1.pdf</span>\n"
   ]
  },
  {
   "cell_type": "code",
   "execution_count": null,
   "metadata": {
    "collapsed": true
   },
   "outputs": [],
   "source": []
  }
 ],
 "metadata": {
  "kernelspec": {
   "display_name": "Python 3",
   "language": "python",
   "name": "python3"
  },
  "language_info": {
   "codemirror_mode": {
    "name": "ipython",
    "version": 3
   },
   "file_extension": ".py",
   "mimetype": "text/x-python",
   "name": "python",
   "nbconvert_exporter": "python",
   "pygments_lexer": "ipython3",
   "version": "3.6.3"
  }
 },
 "nbformat": 4,
 "nbformat_minor": 2
}
