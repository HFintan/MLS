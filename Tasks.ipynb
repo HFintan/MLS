{
 "cells": [
  {
   "cell_type": "markdown",
   "metadata": {},
   "source": [
    "# Tasks\n",
    "Solutions to Ian McLoughlin's Tasks assessment, by Fintan Hegarty (fintan.hegarty@gmail.com) \n",
    "***"
   ]
  },
  {
   "cell_type": "markdown",
   "metadata": {},
   "source": [
    "### Example 1. Calculate the square root of 2 to ten decimal places "
   ]
  },
  {
   "cell_type": "markdown",
   "metadata": {},
   "source": [
    "We can calculate the square root of a number using Newton's method [<sup>1,</sup>](#sqrt-on-on)[<sup>2</sup>](#sqrt-on-tw).\n",
    "To find the square root $z$ of a number $x$, we iterate using the following formula, until a satisfactory error bound is met:\n",
    "\n",
    "$$ z_{i+1} = z_i-\\frac{z_i^2-x}{2z_i} $$\n"
   ]
  },
  {
   "cell_type": "code",
   "execution_count": null,
   "metadata": {
    "collapsed": true
   },
   "outputs": [],
   "source": [
    "def my_sqrt(x):\n",
    "    \"\"\"\n",
    "    A function to calculate the square root of a number x\n",
    "    \"\"\"\n",
    "    # initial guess for sqrt z\n",
    "    z=x/2\n",
    "    # loop until satisfactory guess\n",
    "    while abs(x - z*z) >0.0000000001 :\n",
    "        # make a better guess\n",
    "        z -= (z*z - x)/(2*z)\n",
    "    # return sufficiently close approximation to sqrt x.\n",
    "    # return ('{0:.100f}'.format(z))\n",
    "    return z    "
   ]
  },
  {
   "cell_type": "markdown",
   "metadata": {},
   "source": [
    "#### We test the function with some known values"
   ]
  },
  {
   "cell_type": "code",
   "execution_count": null,
   "metadata": {
    "collapsed": true
   },
   "outputs": [],
   "source": [
    "# Test the function on 100\n",
    "my_sqrt(100)"
   ]
  },
  {
   "cell_type": "code",
   "execution_count": null,
   "metadata": {
    "collapsed": true
   },
   "outputs": [],
   "source": [
    "# Test the function on 36\n",
    "my_sqrt(36)"
   ]
  },
  {
   "cell_type": "code",
   "execution_count": null,
   "metadata": {
    "collapsed": true
   },
   "outputs": [],
   "source": [
    "# Test the function on 2\n",
    "my_sqrt(2)"
   ]
  },
  {
   "cell_type": "code",
   "execution_count": null,
   "metadata": {
    "collapsed": true
   },
   "outputs": [],
   "source": [
    "# Compare with numpy's sqrt function\n",
    "import numpy as np\n",
    "print('{0:.100f}'.format(np.sqrt(2)))"
   ]
  },
  {
   "cell_type": "markdown",
   "metadata": {},
   "source": [
    "#### Answer"
   ]
  },
  {
   "cell_type": "code",
   "execution_count": null,
   "metadata": {
    "collapsed": true
   },
   "outputs": [],
   "source": [
    "my_sqrt(2)"
   ]
  },
  {
   "cell_type": "markdown",
   "metadata": {},
   "source": [
    "### Task 1\n",
    "\n",
    "#### Calculate the square root of 2 to 100 decimal places"
   ]
  },
  {
   "cell_type": "markdown",
   "metadata": {},
   "source": [
    "The method used in Example 1 will not work, as the computer can't handle it. Therefore we try a version of the Babylonian method, borrowed from Wikipedia[<sup>3,</sup>](#sqrt-on-th)\n",
    "\n",
    "The formula here is\n",
    "\n",
    "$$ a_{i+1} = \\frac{a_i}{2}+\\frac{1}{i} $$"
   ]
  },
  {
   "cell_type": "code",
   "execution_count": null,
   "metadata": {
    "collapsed": true
   },
   "outputs": [],
   "source": [
    "def bab_sqrt(x):\n",
    "    \"\"\"\n",
    "    A function to calculate the square root of a number x, hopefully more efficiently\n",
    "    than the Newton method.\n",
    "    \"\"\"\n",
    "    # initial guess for sqrt z\n",
    "    a=1\n",
    "    for i in range(1,5):\n",
    "    # loop until satisfactory guess\n",
    "#    while abs(x - z*z) >0.000000000000001 :\n",
    "        # make a better guess\n",
    "        a = (a/2)+(1/a)\n",
    "    # return sufficiently close approximation to sqrt x.\n",
    "    return ('{0:.100f}'.format(a))\n",
    "    # print(float(\"{0:.100f}\".format(a)))\n",
    "    # print(round(a,100))"
   ]
  },
  {
   "cell_type": "code",
   "execution_count": null,
   "metadata": {
    "collapsed": true
   },
   "outputs": [],
   "source": [
    "bab_sqrt(2)"
   ]
  },
  {
   "cell_type": "code",
   "execution_count": null,
   "metadata": {
    "collapsed": true
   },
   "outputs": [],
   "source": [
    "from sympy import sqrt\n",
    "print(sqrt(2).evalf(52))"
   ]
  },
  {
   "cell_type": "markdown",
   "metadata": {},
   "source": [
    "***"
   ]
  },
  {
   "cell_type": "code",
   "execution_count": null,
   "metadata": {
    "collapsed": true
   },
   "outputs": [],
   "source": [
    "my_sqrt(2000000)"
   ]
  },
  {
   "cell_type": "code",
   "execution_count": null,
   "metadata": {
    "collapsed": true
   },
   "outputs": [],
   "source": [
    "print(my_sqrt(2).eval(101))"
   ]
  },
  {
   "cell_type": "code",
   "execution_count": null,
   "metadata": {
    "collapsed": true
   },
   "outputs": [],
   "source": [
    "import decimal\n",
    "\n",
    "d2=my_sqrt.Decimal(4)\n",
    "\n",
    "# Add a context with an arbitrary precision of 100\n",
    "dot100 = decimal.Context(prec=100)\n",
    "\n",
    "print(d2.sqrt(dot100))\n"
   ]
  },
  {
   "cell_type": "markdown",
   "metadata": {},
   "source": [
    "#### Testing \n",
    "We grab the value of the square root of 2 from nasa.gov [<sup>4,</sup>](#sqrt-on-fo), for a comparison with the value we get, to confirm its accuracy."
   ]
  },
  {
   "cell_type": "code",
   "execution_count": 3,
   "metadata": {},
   "outputs": [
    {
     "name": "stdout",
     "output_type": "stream",
     "text": [
      "The correct value of square root two is\n",
      " 1.4142135623730950488016887242096980785696718753769480731766797379907324784621070388503875343276415727\n"
     ]
    }
   ],
   "source": [
    "import requests\n",
    "import re\n",
    "# Grab page content as string\n",
    "page = requests.get(\"https://apod.nasa.gov/htmltest/gifcity/sqrt2.1mil\").text\n",
    "\n",
    "# Get rid of newlines\n",
    "page = page.replace(\"\\n\",\"\")\n",
    "\n",
    "# Search for string beginning with 1.4 and grab the following 99 digits\n",
    "# group(0) just takes the actual string as opposed to the object\n",
    "real_sqrttwo_value = re.search(\"1.4\\d{99}\", page).group(0)\n",
    "print(\"The correct value of square root two is\\n\", real_sqrttwo_value)"
   ]
  },
  {
   "cell_type": "markdown",
   "metadata": {},
   "source": [
    "## References\n",
    "<span id=\"sqrt-on-on\"> 1. A Tour of Go: Loops and Functions https://tour.golang.org/flowcontrol/8</span>\n",
    "\n",
    "<span id=\"sqrt-on-tw\"> 2. Newton's method: https://en.wikipedia.org/wiki/Newton%27s_method</span>\n",
    "\n",
    "<span id=\"sqrt-on-th\"> 3. Babylonian method: https://en.wikipedia.org/wiki/Square_root_of_2</span>\n",
    "\n",
    "<span id=\"sqrt-on-fo\"> 4. Square root of 2: https://apod.nasa.gov/htmltest/gifcity/sqrt2.1mil</span>\n"
   ]
  }
 ],
 "metadata": {
  "kernelspec": {
   "display_name": "Python 3",
   "language": "python",
   "name": "python3"
  },
  "language_info": {
   "codemirror_mode": {
    "name": "ipython",
    "version": 3
   },
   "file_extension": ".py",
   "mimetype": "text/x-python",
   "name": "python",
   "nbconvert_exporter": "python",
   "pygments_lexer": "ipython3",
   "version": "3.6.3"
  }
 },
 "nbformat": 4,
 "nbformat_minor": 2
}
