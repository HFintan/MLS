{
 "cells": [
  {
   "cell_type": "markdown",
   "metadata": {},
   "source": [
    "# Tasks\n",
    "Solutions to Ian McLoughlin's Tasks assessment, by Fintan Hegarty (fintan.hegarty@gmail.com) \n",
    "***"
   ]
  },
  {
   "cell_type": "markdown",
   "metadata": {},
   "source": [
    "## Task 1\n",
    "\n",
    "#### Calculate the square root of 2 to 100 decimal places"
   ]
  },
  {
   "cell_type": "markdown",
   "metadata": {},
   "source": [
    "In Example 1.1, we give a toy example. Approaches 1.2 and 1.4 fail due to insufficient computing power and precision. Approach 1.5 uses the digit-by-digit method and works. Testing 1.3 grabs the correct value for $\\sqrt{2}$ from both the sympy module and a website. Comparison 1.6 checks that our answer from Approach 1.5 is correct. \n",
    "\n",
    "[Final Answer](#sqrt-FA) is the function to compute and print the square root of two to 100 decimal places, and its execution.\n"
   ]
  },
  {
   "cell_type": "markdown",
   "metadata": {},
   "source": [
    "#### Example 1.1 Calculate the square root of 2 to ten decimal places "
   ]
  },
  {
   "cell_type": "markdown",
   "metadata": {},
   "source": [
    "We can calculate the square root of a number using Newton's method [<sup>1,</sup>](#sqrt-on-on)[<sup>2</sup>](#sqrt-on-tw).\n",
    "To find the square root $z$ of a number $x$, we iterate using the following formula, until a satisfactory error bound is met:\n",
    "\n",
    "$$ z_{i+1} = z_i-\\frac{z_i^2-x}{2z_i} $$\n"
   ]
  },
  {
   "cell_type": "code",
   "execution_count": 1,
   "metadata": {
    "collapsed": true
   },
   "outputs": [],
   "source": [
    "def newton_sqrt(x):\n",
    "    \"\"\"\n",
    "    A function to calculate the square root of a number x\n",
    "    \"\"\"\n",
    "    # initial guess for sqrt z\n",
    "    z=x/2\n",
    "    # loop until satisfactory guess\n",
    "    while abs(x - z*z) >0.0000000001 :\n",
    "        # make a better guess\n",
    "        z -= (z*z - x)/(2*z)\n",
    "    # return sufficiently close approximation to sqrt x.\n",
    "    # return ('{0:.10f}'.format(z))\n",
    "    return (round(z,10))    "
   ]
  },
  {
   "cell_type": "markdown",
   "metadata": {},
   "source": [
    "We test the function with some known values"
   ]
  },
  {
   "cell_type": "code",
   "execution_count": 2,
   "metadata": {},
   "outputs": [
    {
     "data": {
      "text/plain": [
       "10.0"
      ]
     },
     "execution_count": 2,
     "metadata": {},
     "output_type": "execute_result"
    }
   ],
   "source": [
    "# Test the function on 100\n",
    "newton_sqrt(100)"
   ]
  },
  {
   "cell_type": "code",
   "execution_count": 3,
   "metadata": {},
   "outputs": [
    {
     "data": {
      "text/plain": [
       "6.0"
      ]
     },
     "execution_count": 3,
     "metadata": {},
     "output_type": "execute_result"
    }
   ],
   "source": [
    "# Test the function on 36\n",
    "newton_sqrt(36)"
   ]
  },
  {
   "cell_type": "code",
   "execution_count": 4,
   "metadata": {},
   "outputs": [
    {
     "data": {
      "text/plain": [
       "1.4142135624"
      ]
     },
     "execution_count": 4,
     "metadata": {},
     "output_type": "execute_result"
    }
   ],
   "source": [
    "# Test the function on 2\n",
    "newton_sqrt(2)"
   ]
  },
  {
   "cell_type": "code",
   "execution_count": 5,
   "metadata": {},
   "outputs": [
    {
     "name": "stdout",
     "output_type": "stream",
     "text": [
      "numpy's value is\n",
      " 1.4142135623730951\n",
      "newton_sqrt's value is\n",
      " 1.4142135624\n",
      "They are different.\n"
     ]
    }
   ],
   "source": [
    "# Compare with numpy's sqrt function\n",
    "# (This does necessitate an import, which is presumably fine.)\n",
    "import numpy as np\n",
    "numpy_sqrttwo_value = np.sqrt(2)\n",
    "print(\"numpy's value is\\n\",'{0:.16f}'.format(numpy_sqrttwo_value))\n",
    "print(\"newton_sqrt's value is\\n\", newton_sqrt(2))\n",
    "\n",
    "if float(numpy_sqrttwo_value) == float(newton_sqrt(2)):\n",
    "    print(\"They are the same.\")\n",
    "else:\n",
    "    print(\"They are different.\")\n",
    "    "
   ]
  },
  {
   "cell_type": "markdown",
   "metadata": {},
   "source": [
    "This is not wholly surprising, and in any event, we're just comparing the printed values, as opposed to the actual value of the numbers we are describing. Using round instead:"
   ]
  },
  {
   "cell_type": "code",
   "execution_count": 6,
   "metadata": {},
   "outputs": [
    {
     "name": "stdout",
     "output_type": "stream",
     "text": [
      "numpy's value is\n",
      " 1.4142135624\n",
      "newton_sqrt's value is\n",
      " 1.4142135624\n",
      "They are the same.\n"
     ]
    }
   ],
   "source": [
    "# Compare with numpy's sqrt function using round\n",
    "import numpy as np\n",
    "numpy_sqrttwo_value_rounded = round(np.sqrt(2),10)\n",
    "newton_sqrttwo_rounded = round(newton_sqrt(2),10)\n",
    "print(\"numpy's value is\\n\", numpy_sqrttwo_value_rounded)\n",
    "print(\"newton_sqrt's value is\\n\", round(newton_sqrt(2),10))\n",
    "\n",
    "if numpy_sqrttwo_value_rounded==newton_sqrttwo_rounded:\n",
    "    print(\"They are the same.\")\n",
    "else:\n",
    "    print(\"They are different.\")\n"
   ]
  },
  {
   "cell_type": "markdown",
   "metadata": {},
   "source": [
    "#### Attempt 1.2\n",
    "\n",
    "The method used in Example 1.1 will not work for the square root of 100, as the computer can't handle it. Therefore we try a version of the Babylonian method, borrowed from Wikipedia[<sup>3</sup>](#sqrt-on-th)\n",
    "\n",
    "The formula here is\n",
    "\n",
    "$$ a_{i+1} = \\frac{a_i}{2}+\\frac{1}{i} $$"
   ]
  },
  {
   "cell_type": "code",
   "execution_count": 7,
   "metadata": {
    "collapsed": true
   },
   "outputs": [],
   "source": [
    "def bab_sqrt(x):\n",
    "    \"\"\"\n",
    "    A function to calculate the square root of a number x, hopefully more efficiently\n",
    "    than the Newton method.\n",
    "    \"\"\"\n",
    "    # initial guess for sqrt z\n",
    "    a=1\n",
    "    for i in range(1,100):\n",
    "    # loop until satisfactory guess\n",
    "        while abs(x - a*a) >0.000000000000001 :\n",
    "        # make a better guess\n",
    "            a = (a/2)+(1/a)\n",
    "    # return sufficiently close approximation to sqrt x.\n",
    "    return ('{0:.100f}'.format(a))\n",
    "    # print(float(\"{0:.100f}\".format(a)))\n",
    "    # print(round(a,100))"
   ]
  },
  {
   "cell_type": "code",
   "execution_count": 8,
   "metadata": {},
   "outputs": [
    {
     "data": {
      "text/plain": [
       "'1.4142135623730949234300169337075203657150268554687500000000000000000000000000000000000000000000000000'"
      ]
     },
     "execution_count": 8,
     "metadata": {},
     "output_type": "execute_result"
    }
   ],
   "source": [
    "bab_sqrt(2)"
   ]
  },
  {
   "cell_type": "markdown",
   "metadata": {},
   "source": [
    "These digits appear to be inaccurate (visually - though we compare below so we have the method for when it is less obvious) according to the NASA website[<sup>4</sup>](#sqrt-on-fo) listing of the number (or the value from sympy, as given below), and equally problematically, a load of zeros are being uselessly printed instead of the actual digits. However, the method appears to be sufficiently fast that it actually runs, so that's a plus."
   ]
  },
  {
   "cell_type": "markdown",
   "metadata": {},
   "source": [
    "#### Testing 1.3\n",
    "We grab the value of the square root of 2 from nasa.gov [<sup>4</sup>](#sqrt-on-fo) (and also using sqrt from sympy), for a comparison with the value we get, to confirm its accuracy."
   ]
  },
  {
   "cell_type": "code",
   "execution_count": 9,
   "metadata": {},
   "outputs": [
    {
     "name": "stdout",
     "output_type": "stream",
     "text": [
      "The correct value of square root two to 100 places is\n",
      " 1.4142135623730950488016887242096980785696718753769480731766797379907324784621070388503875343276415727\n"
     ]
    }
   ],
   "source": [
    "# (This does necessitate imports for grabbing data and regexing, which is presumably fine,\n",
    "#   as we are only using it for comparison, as opposed to calculating.)\n",
    "import requests\n",
    "import re\n",
    "# Grab page content as string\n",
    "page = requests.get(\"https://apod.nasa.gov/htmltest/gifcity/sqrt2.1mil\").text\n",
    "\n",
    "# Get rid of newlines\n",
    "page = page.replace(\"\\n\",\"\")\n",
    "\n",
    "# Search for string beginning with 1.4 and grab the following 99 digits\n",
    "# group(0) just takes the actual string as opposed to the object\n",
    "real_sqrttwo_value = re.search(\"1.4\\d{99}\", page).group(0)\n",
    "print(\"The correct value of square root two to 100 places is\\n\", real_sqrttwo_value)"
   ]
  },
  {
   "cell_type": "code",
   "execution_count": 10,
   "metadata": {
    "scrolled": true
   },
   "outputs": [
    {
     "name": "stdout",
     "output_type": "stream",
     "text": [
      "1.4142135623730950488016887242096980785696718753769480731766797379907324784621070388503875343276415727\n"
     ]
    }
   ],
   "source": [
    "# Again, this import is just for comparison.\n",
    "from sympy import sqrt\n",
    "sympy_sqrttwo_value=sqrt(2).evalf(101)\n",
    "print(sympy_sqrttwo_value)"
   ]
  },
  {
   "cell_type": "code",
   "execution_count": 11,
   "metadata": {},
   "outputs": [
    {
     "name": "stdout",
     "output_type": "stream",
     "text": [
      "They are different.\n",
      "They are the same.\n"
     ]
    }
   ],
   "source": [
    "if round(float(bab_sqrt(2)),100)==round(float(real_sqrttwo_value),100):\n",
    "    print (\"They are the same.\")\n",
    "else:\n",
    "    print (\"They are different.\")\n",
    "    \n",
    "if round(float(sympy_sqrttwo_value),100)==round(float(real_sqrttwo_value),100):\n",
    "    print (\"They are the same.\")\n",
    "else:\n",
    "    print (\"They are different.\")\n",
    "    "
   ]
  },
  {
   "cell_type": "markdown",
   "metadata": {},
   "source": [
    "#### Approach 1.4\n",
    "\n",
    "The decimal precision appears problematic. Perhaps we can calculate the same number to some power of 10, to give the correct digits, with only the decimal point misplaced?\n",
    "If $n=\\sqrt{2}$, then $10n=\\sqrt{100\\times 2}$, so to calculate $n$ we can calculate $\\sqrt{100\\times 2}$ and move the decimal point one place to the right."
   ]
  },
  {
   "cell_type": "code",
   "execution_count": 12,
   "metadata": {},
   "outputs": [
    {
     "name": "stdout",
     "output_type": "stream",
     "text": [
      "n is  1.4142135624\n",
      "n is  14.1421356237  with the decimal to be moved one space to the right.\n"
     ]
    }
   ],
   "source": [
    "n=newton_sqrt(2)\n",
    "print('n is ',n)\n",
    "f=newton_sqrt(100*2)\n",
    "print('n is ',f,' with the decimal to be moved one space to the right.')"
   ]
  },
  {
   "cell_type": "markdown",
   "metadata": {},
   "source": [
    "Let $n=\\sqrt{2}$. Let $f$ (the 'fake' evaluation, whose decimal point we will move) be $10^{100}$ times bigger than $\\sqrt{2}$ (so the decimal point will be 100 places to the left of where we want it). So the number under the square root sign will be $ 10^{200}$ times bigger than $2$; i.e., $f=\\sqrt{2\\times10^{200}}$, and then we will move the decimal point 100 places to the right.\n"
   ]
  },
  {
   "cell_type": "code",
   "execution_count": 13,
   "metadata": {},
   "outputs": [
    {
     "name": "stdout",
     "output_type": "stream",
     "text": [
      "141.4213562372999888339109020307660102844238281250000000000000000000000000000000000000000000000000000000\n"
     ]
    }
   ],
   "source": [
    "f = 2*10**(4) \n",
    "answer = format(newton_sqrt(f), ',.100f') \n",
    "print(answer)"
   ]
  },
  {
   "cell_type": "markdown",
   "metadata": {},
   "source": [
    "This appears to be on the right track, but the newton_sqrt method is struggling for bigger powers, so a different approach to newton_sqrt may be required."
   ]
  },
  {
   "cell_type": "markdown",
   "metadata": {},
   "source": [
    "#### Approach 1.5\n",
    "We will try the digit-by-digit approach of calculating the square root, as detailed, for example on Wikipedia.[<sup>5</sup>](#sqrt-on-fi)\n",
    "Though the idea used here is largely the same as there, we can take some short-cuts; e.g., we know we start with 2, and that all we will add to the right-hand side will be pairs of zeros."
   ]
  },
  {
   "cell_type": "code",
   "execution_count": 14,
   "metadata": {},
   "outputs": [
    {
     "name": "stdout",
     "output_type": "stream",
     "text": [
      "14142135623730950488016887242096980785696718753769480731766797379907324784621070388503875343276415727\n"
     ]
    }
   ],
   "source": [
    "# Initialise values\n",
    "# I've used c and r where only c is mentioned on wikipedia, but they're just different stages of the same thing.\n",
    "c=2; x=0; y=0; r=0; A=0; p=0;\n",
    "\n",
    "# Handling the first iteration separately makes the loop less complicated to write\n",
    "while (x+1)*(20*p+(x+1))<=2:\n",
    "    x=x+1\n",
    "y=x*(20*p+x)\n",
    "r=c-y\n",
    "A=x\n",
    "\n",
    "# This is simpler than the example on the wiki, because we know we are only appending\n",
    "# 00s, so no need for dividing up part of a string and grabbing two pieces, etc.\n",
    "# We do end up with a number 10^100 times bigger than what we want, because we've\n",
    "# ignored the decimals, but I'll stick that in afterwards.\n",
    "for i in range(1,101):\n",
    "    c=100*r; x=0; y=0; p=A;\n",
    "    while (x+1)*((20*p)+(x+1))<=c:\n",
    "        x=x+1\n",
    "    y=x*(20*p+x)\n",
    "    r=c-y\n",
    "    # This serves the purpose of appending x to A\n",
    "    A=A*10+x\n",
    "print(A)"
   ]
  },
  {
   "cell_type": "code",
   "execution_count": 15,
   "metadata": {},
   "outputs": [
    {
     "name": "stdout",
     "output_type": "stream",
     "text": [
      "1.4142135623730951454746218587388284504413604736328125000000000000000000000000000000000000000000000000\n"
     ]
    }
   ],
   "source": [
    "Ans=format(A/(10**100), ',.100f')\n",
    "print(Ans)"
   ]
  },
  {
   "cell_type": "markdown",
   "metadata": {},
   "source": [
    "I guess we'll have to preserve it as a string, and just insert the decimal point."
   ]
  },
  {
   "cell_type": "code",
   "execution_count": 16,
   "metadata": {},
   "outputs": [
    {
     "name": "stdout",
     "output_type": "stream",
     "text": [
      "1.4142135623730950488016887242096980785696718753769480731766797379907324784621070388503875343276415727\n"
     ]
    }
   ],
   "source": [
    "# Sticking in the decimal\n",
    "stringA=str(A)\n",
    "Ans=stringA[:1] + '.' + stringA[1:]\n",
    "print(Ans)"
   ]
  },
  {
   "cell_type": "markdown",
   "metadata": {},
   "source": [
    "#### Comparison 1.6\n",
    "We compare the string with actual values acquired from sympy and nasa website to confirm accuracy. (Also with the incorrect (excessively rounded) value from numpy as a control. "
   ]
  },
  {
   "cell_type": "code",
   "execution_count": 17,
   "metadata": {},
   "outputs": [
    {
     "name": "stdout",
     "output_type": "stream",
     "text": [
      "True\n",
      "False\n",
      "True\n"
     ]
    }
   ],
   "source": [
    "# Testing by comparing strings\n",
    "print(Ans==str(sympy_sqrttwo_value))\n",
    "print(Ans==str(numpy_sqrttwo_value))\n",
    "print(Ans==str(real_sqrttwo_value))"
   ]
  },
  {
   "cell_type": "markdown",
   "metadata": {},
   "source": [
    "#### Answer 1.7"
   ]
  },
  {
   "cell_type": "code",
   "execution_count": 18,
   "metadata": {},
   "outputs": [
    {
     "name": "stdout",
     "output_type": "stream",
     "text": [
      "The square root of 2, to 100 decimal places is\n",
      " 1.4142135623730950488016887242096980785696718753769480731766797379907324784621070388503875343276415727\n"
     ]
    }
   ],
   "source": [
    "print(\"The square root of 2, to 100 decimal places is\\n\",Ans)"
   ]
  },
  {
   "cell_type": "markdown",
   "metadata": {},
   "source": [
    "\n",
    "#### <span id=\"sqrt-FA\">FINAL ANSWER TO TASK 1:</span>"
   ]
  },
  {
   "cell_type": "code",
   "execution_count": 19,
   "metadata": {
    "collapsed": true
   },
   "outputs": [],
   "source": [
    "def sqrt2():\n",
    "    c=2; x=0; y=0; r=0; A=0; p=0;\n",
    "    while (x+1)*(20*p+(x+1))<=2:\n",
    "        x=x+1\n",
    "    y=x*(20*p+x)\n",
    "    r=c-y\n",
    "    A=x\n",
    "    for i in range(1,101):\n",
    "        c=100*r; x=0; y=0; p=A;\n",
    "        while (x+1)*((20*p)+(x+1))<=c:\n",
    "            x=x+1\n",
    "        y=x*(20*p+x)\n",
    "        r=c-y\n",
    "        A=A*10+x\n",
    "        stringA=str(A)\n",
    "        Ans=stringA[:1] + '.' + stringA[1:]\n",
    "    print(Ans)"
   ]
  },
  {
   "cell_type": "code",
   "execution_count": 20,
   "metadata": {},
   "outputs": [
    {
     "name": "stdout",
     "output_type": "stream",
     "text": [
      "1.4142135623730950488016887242096980785696718753769480731766797379907324784621070388503875343276415727\n"
     ]
    }
   ],
   "source": [
    "sqrt2()"
   ]
  },
  {
   "cell_type": "markdown",
   "metadata": {},
   "source": [
    "***\n",
    "\n",
    "## Task 2\n",
    "| |A|B|C|D|Total\n",
    "| --- | --- | --- | --- | --- | --- |\n",
    "| White collar|90|60|104|95|349 |\n",
    "| Blue collar|30|50|51|20|151|\n",
    "| No collar|30|40|45|35|150|\n",
    "| Total|150|150|200|150|650|\n",
    "\n",
    "#### Use scipy.stats  [<sup>8</sup>](#chi-tw-th) to verify the $\\chi^{2}$ value [<sup>6</sup>](#chi-tw-on) of this table is 24.6, and calculate the associated $p$ value. [<sup>7</sup>](#chi-tw-tw)\n",
    "    \n"
   ]
  },
  {
   "cell_type": "code",
   "execution_count": 21,
   "metadata": {
    "scrolled": true
   },
   "outputs": [
    {
     "name": "stdout",
     "output_type": "stream",
     "text": [
      "               A   B    C   D\n",
      "White collar  90  60  104  95\n",
      "Blue collar   30  50   51  20\n",
      "No collar     30  40   45  35 \n",
      "\n",
      "The test statistic value is 24.5712028585826 . \n",
      "\n",
      "The p value value is 0.0004098425861096696 . \n",
      "\n",
      "There are 6 degrees of freedom. \n",
      "\n",
      "The expected value matrix if neighbourhood and collar were independent would be\n",
      " [[ 80.53846154  80.53846154 107.38461538  80.53846154]\n",
      " [ 34.84615385  34.84615385  46.46153846  34.84615385]\n",
      " [ 34.61538462  34.61538462  46.15384615  34.61538462]] .\n",
      "\n"
     ]
    }
   ],
   "source": [
    "import numpy as np\n",
    "import pandas as pd\n",
    "import scipy.stats as st\n",
    "\n",
    "# First we create the data frame; there's no need to include the totals, as these will\n",
    "# be calculated by python later\n",
    "deets={'A': [90,30,30], 'B': [60,50,40], 'C': [104,51,45], 'D': [95,20,35]}\n",
    "df = pd.DataFrame(data=deets)\n",
    "df.index=[\"White collar\", \"Blue collar\", \"No collar\"]\n",
    "print(df,'\\n')\n",
    "\n",
    "# let scipy.stats do all the hard work, and assign the values\n",
    "chi2, pv, dof, exp  = st.chi2_contingency(df)\n",
    "print('The test statistic value is', chi2, '. \\n')\n",
    "print('The p value value is', pv, '. \\n')\n",
    "print('There are', dof, 'degrees of freedom. \\n')\n",
    "print('The expected value matrix if neighbourhood and collar were independent would be\\n', exp, '.\\n')"
   ]
  },
  {
   "cell_type": "markdown",
   "metadata": {},
   "source": [
    "The p value here (0.00041) is very small, certainly smaller than any alpha level/threshold of significance we are likely to be asked to test for, so we may reject the null hypothesis; i.e., we cannot say that the collar colour and region are independent."
   ]
  },
  {
   "cell_type": "markdown",
   "metadata": {},
   "source": [
    "***\n",
    "# Task 3\n",
    "\n",
    "#### Describe and contrast Excel's STDEV.P and STDEV.S. Use numpy to perform a simulation demonstrating that STDEV.S is a better estimate for the standard deviation of a population when performed on a sample. "
   ]
  },
  {
   "cell_type": "markdown",
   "metadata": {},
   "source": [
    "The formula for the standard deviation [<sup>9</sup>](#std-th-on) of a population is\n",
    "$$\\sigma=\\sqrt{\\frac{\\sum_{i=1}^N(x_i-\\mu)^2}{N}},$$\n",
    "where $N$ is the size of the population and $\\mu$ is the mean of the population.\n",
    "\n",
    "This is calculated in Microsoft Excel [<sup>10</sup>](#std-th-tw) with the function STDEV.P.\n",
    "\n",
    "Often, we do not have a full population, and only have a sample to calculate with. Intuitively, the expected values of the variance and deviation of a sample are greater than those of the population itself. (E.g., selecting 1000 random points from a normal distribution is likely to give a more accurate idea of the spread of the population's data than a sample of just 10 points, where adding one or two extra points could have a large effect on the expected variance and deviation of the sample. As the size of the sample approaches the size of the population, the variability of the values tends to the settle down.)\n",
    "\n",
    "To reduce the value of the formula above, we increase the value of the denominator. \n",
    "This is a somewhat intuitive justification for the amended formula. The \"intuitive\"[<sup>11</sup>](#std-th-th) justification for changing the value of the denominator from $n$ to $n-1$ seems to really be either empirical or algebraic. Empirical support seems to be the latter part of the question, and an algebraic proof seems beyond the scope of the module, so I will refrain from copy and pasting it from, for example, Wikipedia's entry on Bessel's correction[<sup>12</sup>](#std-th-fo). \n",
    "\n",
    "The formula for the standard deviation for a sample (note the denominator change - the other variables are simply statistical analogues of the sample to the population parameters).\n",
    "\n",
    "$$s=\\sqrt{\\frac{\\sum_{i=1}^N(x_i-\\bar{x})^2}{N-1}}.$$\n",
    "\n",
    "This is calculated in Microsoft Excel using STDEV.S.\n",
    "\n",
    "These formulas are not unique to Excel; I will use the LibreOffice functions, since I am not on a Windows machine, but they are identical - even the names STDEV.P[<sup>13</sup>](#std-th-fi) and STDEV.S are the same.\n",
    "\n",
    "\n"
   ]
  },
  {
   "cell_type": "markdown",
   "metadata": {},
   "source": [
    "Before using python to run the simulations, we shall first run a TOY EXAMPLE with LibreOffice itself. \n",
    "\n",
    "Using =NORMINV(RAND(),50,10) to generate 1000 random points on a normal distribution about mean 50, with standard deviation 10, we get the following parameters:\n",
    "$\\mu=49.66256017$ and $\\sigma=10.093648$\n",
    "\n",
    "Next we run ten tests, selecting samples of size 100 to see if using STDEV.S is more accurate than STDEV.P (i.e., closer to the real $\\sigma$. I will embolden the more accurate (i.e. the smaller error).\n",
    "\n",
    "| | STDEV.P | STDEV.P error | STDEV.S | STDEV.S error \n",
    "| --- | --- | --- | --- | --- |\n",
    "| Sample 1 | 9.3046374272 |\t0.7047273716 | 10.6078393083 | **0.5984745095** |\n",
    "| Sample 2 | 10.1415558481 | **0.1321910493** | 10.1926471329 | 0.1832823341 |\n",
    "| Sample 3 | 9.7361852347 | 0.2731795642 | 9.7852343372 | **0.2241304616** |\n",
    "| Sample 4 | 9.5072365378 | 0.502128261 | 9.5551322391 | **0.4542325597** |\n",
    "| Sample 5 | 9.9778339813 | 0.0315308175 | 10.0281004656 | **0.0187356668** |\n",
    "| Sample 6 | 10.6518134966 | **0.6424486978** | 10.7054753651 | 0.6961105663 |\n",
    "| Sample 7 | 10.5777728298 | **0.568408031** | 10.6310616952 | 0.6216968963 |\n",
    "| Sample 8 | 10.0698784086 | **0.0605136098** | 10.1206085957 | 0.1112437969 |\n",
    "| Sample 9 | 9.8311596107 | 0.1782051881 | 9.8806871766 | **0.1286776222** |\n",
    "| Sample 10 | 9.75063108 | 0.2587337188 | 9.7997529581 | **0.2096118407** |\n",
    "\n",
    "STDEV.S appears to be slightly more accurate, but nothing definitive. This is because the sample size is very large, so the difference between $n-1$ and $n$ verges on negligible, especially given that the square root thereof is being taken, so any difference can be lost in rounding error.\n",
    "\n",
    "Let us try with smaller samples; here the size of the samples is 30.\n",
    "\n",
    "| | STDEV.P | STDEV.P error | STDEV.S | STDEV.S error\n",
    "| --- | --- | --- | --- | --- |\n",
    "| Sample 11 | 9.7154559039 | 0.3565769483 | 9.8815441042 | **0.190488748** | \n",
    "| Sample 12 | 11.1611084634 | **1.0890756113** | 11.3519104635 | 1.2798776114 | \n",
    "| Sample 13 | 8.193434327 | 1.8785985252 | 8.3335031796 | **1.7385296725** | \n",
    "| Sample 14 | 8.5661010318 | 1.5059318204 | 8.7125407169 | **1.3594921352** | \n",
    "| Sample 15 | 10.0946507718 | **0.0226179197** | 10.2672214052 | 0.1951885531 | \n",
    "| Sample 16 | 8.6089441108 | 1.4630887413 | 8.7561162094 | **1.3159166428** | \n",
    "| Sample 17 | 10.7962155689 | **0.7241827168** | 10.9807796317 | 0.9087467796 | \n",
    "| Sample 18 | 11.4288570799 | **1.3568242278** | 11.624236311 | 1.5522034589 | \n",
    "| Sample 19 | 8.4831631569 | 1.5888696952 | 8.6281849979 | **1.4438478542** | \n",
    "| Sample 20 | 9.5078689204 | 0.5641639317 | 9.6704083682 | **0.4016244839** | \n",
    "\n",
    "Again, it appears the STDEV.S is almost imperceptibly better. Let us reduce the sample size to 20.\n",
    "Population standard deviation here is 9.8009880294\n",
    "\n",
    "| | STDEV.P | STDEV.P error | STDEV.S | STDEV.S error | \n",
    "| --- | --- | --- | --- | --- |\n",
    "| Sample 21 | 8.9543507265 | 0.855529568 | 9.1869700024\t| **0.6229102921** | \n",
    "| Sample 22 | 7.173992363 | 2.6358879315 | 7.3603608624 | **2.449519432** | \n",
    "| Sample 23 | 9.1693162757 | 0.6405640188 | 9.4075200023 | **0.4023602922** | \n",
    "| Sample 24 | 6.6062972858 | 3.2035830087 | 6.7779180026 | **3.0319622918** | \n",
    "| Sample 25 | 9.7734860099 | **0.0363942846** | 10.0273850705 | 0.2175047761 | \n",
    "| Sample 26 | 7.5169705153 | 2.2929097792 | 7.712249022 | **2.0976312725** | \n",
    "| Sample 27 | 7.2992629442 | 2.5106173503 | 7.4888857669 | **2.3209945275** | \n",
    "| Sample 28 | 8.5553287119 | 1.2545515826 | 8.7775820534 | **1.0322982411** | \n",
    "| Sample 29 | 10.2223885418 | **0.4125082473** | 10.4879493505 | 0.678069056 | \n",
    "| Sample 30 | 10.2358938189 | **0.4260135245** | 10.5018054725 | 0.691925178 | \n",
    "\n",
    "It is a little clearer here that STDEV.S is an improvement over STDEV.P, but it's not as clear-cut as I would like it to be before moving on, so let us try sample sizes of 15, and then hopefully we can move on from this increasingly inaccurately named toy example. Population standard deviation here 9.853738619. (These values are slightly different because the random data points regenerate each turn).\n",
    "\n",
    "| | STDEV.P | STDEV.P error | STDEV.S | STDEV.S error | \n",
    "| --- | --- | --- | --- | --- |\n",
    "| Sample 31 | 7.49088399 | 2.3628546294 | 7.7538015758 | **2.0999370436** |\n",
    "| Sample 32 | 7.2096096068 | 2.6441290126 | 7.4626549289 | **2.3910836904** | \n",
    "| Sample 33 | 5.6865952012 | 4.1671434182 | 5.8861852474 | **3.967553372** | \n",
    "| Sample 34 | 6.9213163568 | 2.9324222625 | 7.1642430647 | **2.6894955546** | \n",
    "| Sample 35 | 5.8503851354 | 4.003353484 | 6.0557239362 | **3.7980146831** | \n",
    "| Sample 36 | 9.1134699117 | 0.7402687077 | 9.4333375682 | **0.4204010511** | \n",
    "| Sample 37| 10.6467176607 | **0.7929790413** | 11.0203997665 | 1.1666611471 | \n",
    "| Sample 38 | 9.5626527735 | 0.2910858458 | 9.8982860024 | **0.0445473831** | \n",
    "| Sample 39 |4.9724232579 | 4.8813153614 | 5.1469470551 | **4.7067915642** | \n",
    "| Sample 40 | 11.9735258233 | **2.119787204** | 12.3937766919 | 2.5400380725 | \n",
    "\n",
    "This seems illustrative that STDEV.S is an improvement over STDEV.P for sufficiently small samples.\n",
    "A quote from Press et al.[<sup>14</sup>](#std-th-si) feels appropriate at this juncture...\n",
    "\n",
    "*\"...if the difference between $n$ and $n-1$ ever matters to you, then you are probably up to no good anyway – e.g. trying to substantiate a questionable hypothesis with marginal data...\"*\n",
    "\n",
    "\n"
   ]
  },
  {
   "cell_type": "code",
   "execution_count": 22,
   "metadata": {},
   "outputs": [
    {
     "data": {
      "image/png": "[encoded data removed]",
      "text/plain": [
       "<Figure size 432x288 with 1 Axes>"
      ]
     },
     "metadata": {},
     "output_type": "display_data"
    },
    {
     "name": "stdout",
     "output_type": "stream",
     "text": [
      "10.138649842786648\n"
     ]
    }
   ],
   "source": [
    "import numpy as np\n",
    "import matplotlib.pyplot as plt\n",
    "\n",
    "# Two functions for standard deviation\n",
    "\n",
    "# stddevS for a sample\n",
    "def stddevS(x):\n",
    "    samplestd=np.sqrt(np.sum((x-np.mean(x))**2)/(len(x)-1));\n",
    "    return samplestd\n",
    "\n",
    "# stddevP for population\n",
    "def stddevP(x):\n",
    "    popstd=np.sqrt(np.sum((x-np.mean(x))**2)/len(x));\n",
    "    return popstd\n",
    "\n",
    "# So, as in the toy example previously, simply put, we want to\n",
    "# 1. Create a population\n",
    "# 2. Create some samples\n",
    "# 3. Check whether the sample standard deviation formula or the\n",
    "# population standard deviation formula for the sample gives an answer closer\n",
    "# to the actual population standard deviation.\n",
    "\n",
    "# Possible further: Investigate effect of population and sample sizes. As sample size approaches population\n",
    "# size, expect difference between stddevP and stddevS errors to disappear.\n",
    "# May be worth investigating the effect of sample size, and of varying standard deviations.\n",
    "\n",
    "plt.clf()\n",
    "# 1 Create population \n",
    "x = np.random.normal(50, 10, 100)\n",
    "plt.hist(x,100,color='red')\n",
    "plt.show()\n",
    "\n",
    "sigma = stddevP(x)\n",
    "print(sigma)\n"
   ]
  },
  {
   "cell_type": "code",
   "execution_count": 23,
   "metadata": {},
   "outputs": [
    {
     "data": {
      "image/png": "[encoded data removed]",
      "text/plain": [
       "<Figure size 432x288 with 1 Axes>"
      ]
     },
     "metadata": {},
     "output_type": "display_data"
    },
    {
     "name": "stdout",
     "output_type": "stream",
     "text": [
      "Difference between std dev of population and stddevP of sample is\n",
      " 4.738029193630387\n",
      "Difference between std dev of population and stddevS of sample is\n",
      " 4.445895832829684\n"
     ]
    }
   ],
   "source": [
    "# 2.\n",
    "# Select a random sample from the population we've just created \n",
    "plt.clf()\n",
    "sample = np.random.choice(x, 10)\n",
    "plt.hist(x,100,color='red')\n",
    "plt.hist(sample,100,color='blue')\n",
    "plt.show()\n",
    "\n",
    "# 3. \n",
    "# Check which is closer.\n",
    "print('Difference between std dev of population and stddevP of sample is\\n', abs(sigma-stddevP(sample)))\n",
    "print('Difference between std dev of population and stddevS of sample is\\n', abs(sigma-stddevS(sample)))\n"
   ]
  },
  {
   "cell_type": "markdown",
   "metadata": {},
   "source": [
    "As with the toy example, repeated runs of this stddevP vs stddevS are disappointingly unclear. \n",
    "\n",
    "I will run a larger sample, varying population size, sample size (as a percentage of population size), and standard deviation of population size (as a percentage)."
   ]
  },
  {
   "cell_type": "code",
   "execution_count": 25,
   "metadata": {},
   "outputs": [
    {
     "data": {
      "text/html": [
       "<video src=\"testvid.mp4\" controls>\n",
       "      Your browser does not support the <code>video</code> element.\n",
       "    </video>"
      ],
      "text/plain": [
       "<IPython.core.display.Video object>"
      ]
     },
     "execution_count": 25,
     "metadata": {},
     "output_type": "execute_result"
    }
   ],
   "source": [
    "# Toy function to check the animation\n",
    "\n",
    "import matplotlib.pyplot as plt\n",
    "import random\n",
    "from operator import add\n",
    "import numpy as np\n",
    "from celluloid import Camera\n",
    "from IPython.display import Video\n",
    "\n",
    "# This clears the plot data picked up previously\n",
    "plt.clf()\n",
    "fig = plt.figure(figsize=(6,3))\n",
    "camera=Camera(fig)\n",
    "\n",
    "# L is a list with which we shall count the \"wins\" for stddevP vs stddevS.\n",
    "L=[0,0]\n",
    "\n",
    "# This toy function randomly adds 1 to either the left or right of L. \n",
    "# It is for testing\n",
    "# purposes for the script; we will replace it with the loop running over the various\n",
    "# populations etc. in due course\n",
    "def rando():\n",
    "    k=random.randint(0,1)\n",
    "    global L\n",
    "    L=list(map(add,[k,1-k],L))\n",
    "    return L\n",
    "\n",
    "# This function plots each new value of L\n",
    "def animate():\n",
    "    rando()\n",
    "    graph=plt.bar([0,1],L)    \n",
    "    camera.snap()\n",
    "\n",
    "for i in range(100):    \n",
    "    animate()\n",
    "\n",
    "animation = camera.animate()\n",
    "animation.save(\"testvid.mp4\")\n",
    "\n",
    "Video(\"testvid.mp4\")"
   ]
  },
  {
   "cell_type": "markdown",
   "metadata": {},
   "source": [
    "The next block is of raw type so you don't have to wait for it to run. It takes about a minute if you wish to convert to code and run it for 1 iteration (as currently coded). "
   ]
  },
  {
   "cell_type": "raw",
   "metadata": {},
   "source": [
    "import matplotlib.pyplot as plt\n",
    "import random\n",
    "from operator import add\n",
    "import numpy as np\n",
    "from celluloid import Camera\n",
    "\n",
    "# This clears the plot data picked up previously\n",
    "plt.clf()\n",
    "fig = plt.figure(figsize=(6,3))\n",
    "camera=Camera(fig)\n",
    "\n",
    "# L is a list with which we shall count the \"wins\" for stddevP vs stddevS.\n",
    "L=[0,0]\n",
    "\n",
    "# This function sticks the plots together, and creates a video which I'll include\n",
    "# in the file, in case you don't want to wait and run the lengthy simulation\n",
    "# Create population (mean=50,stddevn=k,size=i)\n",
    "# Varying size of population    \n",
    "for i in [500,1000,10000,5000,100000,1000000]:\n",
    "    # Varying standard deviation\n",
    "    for k in [10,20,50,100,200]:\n",
    "        # Varying sample size\n",
    "        for j in [10,20,30,50,100,200,400]:\n",
    "            x = np.random.normal(50, k, i)\n",
    "            sigma = stddevP(x)\n",
    "            # l iterations\n",
    "            for l in range(1): # This value was 50 in the longer simulation\n",
    "                sample = np.random.choice(x, j)\n",
    "                sdS=stddevS(sample)\n",
    "                sdP=stddevP(sample)\n",
    "                global L\n",
    "                if abs(sdS-sigma)<abs(sdP-sigma): # checks if stddevS error is less than stddevP error\n",
    "                    L=list(map(add,[1,0],L)) # If so, increase Left-hand side  \n",
    "                else:\n",
    "                    L=list(map(add,[0,1],L)) # Otherwise, increase Right-hand side\n",
    "                bars=['stddevS','stddevP']\n",
    "                plt.legend(t, [f'Pop {i}, Sigma {k}, Sam {j}'])\n",
    "                plt.bar(bars,L,label=\"test\")\n",
    "                #plt.show()\n",
    "                camera.snap()\n",
    "a=camera.animate()\n",
    "a.save(\"tinyout.mp4\")\n",
    "\n",
    "Video(\"tinyout.mp4\")"
   ]
  },
  {
   "cell_type": "markdown",
   "metadata": {},
   "source": [
    "This above example is just to show the code running with 1 iteration at each step. The video below is of 5 iterations, and is included in the github repository. A longer video with 50 iterations at each step, which takes about a day to run and half an hour to view, is available at https://youtu.be/DnhmeG6Cyb4 if you want to watch half an hour of the same thing.\n",
    "\n",
    "The script runs over a range of population sizes, population standard deviations, and sample sizes. It creates a population with a normal distribution (and mean 50, which shouldn't make any difference), and generates a random sample. If the sample standard deviation formula answer is closer than the population standard deviation formula answer to the standard deviation of the population, 1 is added to stddevS, and otherwise 1 is added to stddevP.\n",
    "\n",
    "These simulations suggest that as a whole, the \"n-1\" formula is a better approximation than the \"n\" formula, but not in every situation by a long shot."
   ]
  },
  {
   "cell_type": "code",
   "execution_count": 26,
   "metadata": {},
   "outputs": [
    {
     "data": {
      "text/html": [
       "<video src=\"smallout.mp4\" controls>\n",
       "      Your browser does not support the <code>video</code> element.\n",
       "    </video>"
      ],
      "text/plain": [
       "<IPython.core.display.Video object>"
      ]
     },
     "execution_count": 26,
     "metadata": {},
     "output_type": "execute_result"
    }
   ],
   "source": [
    "from IPython.display import Video\n",
    "\n",
    "Video(\"smallout.mp4\")"
   ]
  },
  {
   "cell_type": "markdown",
   "metadata": {},
   "source": [
    "# Task 4\n",
    "\n",
    "####  Use scikitlearn to apply k-means clustering to Fisher's Iris data set. Explain how to use it to make predictions of species of iris."
   ]
  },
  {
   "cell_type": "markdown",
   "metadata": {},
   "source": [
    "Plan: import libraries and data set, plot the graph, use k-means clustering to split the data into three clusters (representing each type of iris). (Four variables, so for 2-dimensional arrays we'll need six plots. Might also try a three-dimensional array.) Add extra points and see how the prediction works."
   ]
  },
  {
   "cell_type": "code",
   "execution_count": 31,
   "metadata": {},
   "outputs": [
    {
     "data": {
      "image/png": "[encoded data removed]",
      "text/plain": [
       "<Figure size 432x288 with 1 Axes>"
      ]
     },
     "metadata": {},
     "output_type": "display_data"
    }
   ],
   "source": [
    "# Numerical arrays.\n",
    "import numpy as np\n",
    "# Machine learning - KMeans.\n",
    "import sklearn.cluster as skcl\n",
    "# Plotting.\n",
    "import matplotlib.pyplot as plt\n",
    "\n",
    "# Data set.\n",
    "X = np.array([[1, 2], [1, 4], [1, 0], [10, 2], [10, 4], [10, 0]])\n",
    "# Plot the data set.\n",
    "plt.plot(X[:,0], X[:,1], 'x')\n",
    "# Set reasonable limits.\n",
    "plt.xlim([-2,14])\n",
    "plt.ylim([-2,6])\n",
    "plt.show()"
   ]
  },
  {
   "cell_type": "code",
   "execution_count": 32,
   "metadata": {},
   "outputs": [
    {
     "data": {
      "text/plain": [
       "array([1, 1, 1, 0, 0, 0], dtype=int32)"
      ]
     },
     "execution_count": 32,
     "metadata": {},
     "output_type": "execute_result"
    }
   ],
   "source": [
    "# Perform kmeans fitting.\n",
    "kmeans = skcl.KMeans(n_clusters=2, random_state=0).fit(X)\n",
    "# See the labels of the points.\n",
    "kmeans.labels_"
   ]
  },
  {
   "cell_type": "code",
   "execution_count": 33,
   "metadata": {},
   "outputs": [
    {
     "data": {
      "image/png": "[encoded data removed]",
      "text/plain": [
       "<Figure size 432x288 with 1 Axes>"
      ]
     },
     "metadata": {},
     "output_type": "display_data"
    }
   ],
   "source": [
    "# Plot the data set.\n",
    "plt.plot(X[kmeans.labels_ == 0][:,0], X[kmeans.labels_ == 0][:,1], 'gx')\n",
    "plt.plot(X[kmeans.labels_ == 1][:,0], X[kmeans.labels_ == 1][:,1], 'rx')\n",
    "# Set reasonable limits.\n",
    "plt.xlim([-2,14])\n",
    "plt.ylim([-2,6])\n",
    "plt.show()"
   ]
  },
  {
   "cell_type": "code",
   "execution_count": 34,
   "metadata": {},
   "outputs": [
    {
     "data": {
      "image/png": "[encoded data removed]",
      "text/plain": [
       "<Figure size 432x288 with 1 Axes>"
      ]
     },
     "metadata": {},
     "output_type": "display_data"
    }
   ],
   "source": [
    "# Predict the cluster for two points.\n",
    "newvals = np.array([[0, 0], [12, 3]])\n",
    "predictions = kmeans.predict(newvals)\n",
    "predictions# Plot the data set.\n",
    "plt.plot(X[kmeans.labels_ == 0][:,0], X[kmeans.labels_ == 0][:,1], 'gx')\n",
    "plt.plot(X[kmeans.labels_ == 1][:,0], X[kmeans.labels_ == 1][:,1], 'rx')\n",
    "plt.plot(newvals[:,0], newvals[:,1], 'bo')\n",
    "# Set reasonable limits.\n",
    "plt.xlim([-2,14])\n",
    "plt.ylim([-2,6])\n",
    "plt.show()"
   ]
  },
  {
   "cell_type": "code",
   "execution_count": 35,
   "metadata": {},
   "outputs": [
    {
     "data": {
      "image/png": "[encoded data removed]",
      "text/plain": [
       "<Figure size 432x288 with 1 Axes>"
      ]
     },
     "metadata": {},
     "output_type": "display_data"
    }
   ],
   "source": [
    "# Plot the data set.\n",
    "plt.plot(X[kmeans.labels_ == 0][:,0], X[kmeans.labels_ == 0][:,1], 'gx')\n",
    "plt.plot(X[kmeans.labels_ == 1][:,0], X[kmeans.labels_ == 1][:,1], 'rx')\n",
    "plt.plot(newvals[predictions == 0][:,0], newvals[predictions == 0][:,1], 'go')\n",
    "plt.plot(newvals[predictions == 1][:,0], newvals[predictions == 1][:,1], 'ro')\n",
    "# Set reasonable limits.\n",
    "plt.xlim([-2,14])\n",
    "plt.ylim([-2,6])\n",
    "plt.show()"
   ]
  },
  {
   "cell_type": "code",
   "execution_count": 36,
   "metadata": {},
   "outputs": [
    {
     "data": {
      "image/png": "[encoded data removed]",
      "text/plain": [
       "<Figure size 432x288 with 1 Axes>"
      ]
     },
     "metadata": {},
     "output_type": "display_data"
    }
   ],
   "source": [
    "cent = kmeans.cluster_centers_\n",
    "cent\n",
    "# Plot the data set.\n",
    "plt.plot(X[kmeans.labels_ == 0][:,0], X[kmeans.labels_ == 0][:,1], 'gx')\n",
    "plt.plot(X[kmeans.labels_ == 1][:,0], X[kmeans.labels_ == 1][:,1], 'rx')\n",
    "plt.plot(newvals[predictions == 0][:,0], newvals[predictions == 0][:,1], 'go')\n",
    "plt.plot(newvals[predictions == 1][:,0], newvals[predictions == 1][:,1], 'ro')\n",
    "plt.plot(cent[:,0], cent[:,1], 'k.')\n",
    "# Set reasonable limits.\n",
    "plt.xlim([-2,14])\n",
    "plt.ylim([-2,6])\n",
    "plt.show()"
   ]
  },
  {
   "cell_type": "code",
   "execution_count": 37,
   "metadata": {},
   "outputs": [
    {
     "data": {
      "text/plain": [
       "array([[ 2.57822566,  6.5096078 ],\n",
       "       [-0.04377502,  3.37568244],\n",
       "       [ 3.90836909, 11.54836616],\n",
       "       [ 0.6405863 ,  8.60256938],\n",
       "       [ 0.61607938,  2.47348621],\n",
       "       [ 4.54943713, 10.80758033],\n",
       "       [ 5.05043697,  9.37475085],\n",
       "       [ 2.81979389, 11.4576529 ],\n",
       "       [-0.21587614, -0.34734616],\n",
       "       [ 3.38258413, 10.81422895],\n",
       "       [ 7.96857341, 12.26903669],\n",
       "       [ 4.89925613, 15.7212411 ],\n",
       "       [ 5.41735222,  9.24283335],\n",
       "       [ 6.18603196, 11.85260916],\n",
       "       [ 1.85356045,  1.3328166 ],\n",
       "       [ 4.81345023, -0.55222076],\n",
       "       [ 2.64479688,  4.28759802],\n",
       "       [ 0.61033651,  1.52056513],\n",
       "       [ 2.58273156, -2.27956511],\n",
       "       [ 1.24248566,  0.68497444]])"
      ]
     },
     "execution_count": 37,
     "metadata": {},
     "output_type": "execute_result"
    }
   ],
   "source": [
    "# Data set.\n",
    "\n",
    "\n",
    "# Two centre points.\n",
    "c1 = np.array([1.0,  2.0])\n",
    "c2 = np.array([5.0, 12.0])\n",
    "\n",
    "# Create points randomly around the centre points.\n",
    "c1x = np.random.normal(c1[0], 2.0, 10)\n",
    "c1y = np.random.normal(c1[1], 2.0, 10)\n",
    "c1p = np.vstack([c1x, c1y]).T\n",
    "c2x = np.random.normal(c2[0], 2.0, 10)\n",
    "c2y = np.random.normal(c2[1], 2.0, 10)\n",
    "c2p = np.vstack([c2x, c2y]).T\n",
    "\n",
    "# Merge the two lists of values.\n",
    "myX = np.concatenate([c1p, c2p])\n",
    "# Shuffle the points.\n",
    "np.random.shuffle(myX)\n",
    "\n",
    "myX"
   ]
  },
  {
   "cell_type": "code",
   "execution_count": 38,
   "metadata": {},
   "outputs": [
    {
     "data": {
      "image/png": "[encoded data removed]",
      "text/plain": [
       "<Figure size 432x288 with 1 Axes>"
      ]
     },
     "metadata": {},
     "output_type": "display_data"
    }
   ],
   "source": [
    "# Plot the data set.\n",
    "plt.plot(myX[:,0], myX[:,1], 'x')\n",
    "plt.show()"
   ]
  },
  {
   "cell_type": "code",
   "execution_count": 39,
   "metadata": {},
   "outputs": [
    {
     "data": {
      "image/png": "[encoded data removed]",
      "text/plain": [
       "<Figure size 432x288 with 1 Axes>"
      ]
     },
     "metadata": {},
     "output_type": "display_data"
    }
   ],
   "source": [
    "# Perform kmeans fitting.\n",
    "mykmeans = skcl.KMeans(n_clusters=2, random_state=0).fit(myX)\n",
    "# Plot the data set.\n",
    "plt.plot(myX[mykmeans.labels_ == 0][:,0], myX[mykmeans.labels_ == 0][:,1], 'gx')\n",
    "plt.plot(myX[mykmeans.labels_ == 1][:,0], myX[mykmeans.labels_ == 1][:,1], 'rx')\n",
    "plt.show()"
   ]
  },
  {
   "cell_type": "code",
   "execution_count": 40,
   "metadata": {},
   "outputs": [
    {
     "data": {
      "text/plain": [
       "array([[-1.        , -1.        ],\n",
       "       [-0.11111111,  0.77777778],\n",
       "       [ 0.77777778,  2.55555556],\n",
       "       [ 1.66666667,  4.33333333],\n",
       "       [ 2.55555556,  6.11111111],\n",
       "       [ 3.44444444,  7.88888889],\n",
       "       [ 4.33333333,  9.66666667],\n",
       "       [ 5.22222222, 11.44444444],\n",
       "       [ 6.11111111, 13.22222222],\n",
       "       [ 7.        , 15.        ]])"
      ]
     },
     "execution_count": 40,
     "metadata": {},
     "output_type": "execute_result"
    }
   ],
   "source": [
    "# Create new dummy points for classification.\n",
    "# mynewvals = np.array([[0, 0], [6, 10]])\n",
    "myxvals = np.linspace(-1.0, 7.0, 10)\n",
    "myyvals = np.linspace(-1.0, 15.0, 10)\n",
    "mynewvals = np.vstack([myxvals, myyvals]).T\n",
    "mynewvals"
   ]
  },
  {
   "cell_type": "code",
   "execution_count": 41,
   "metadata": {},
   "outputs": [
    {
     "data": {
      "image/png": "[encoded data removed]",
      "text/plain": [
       "<Figure size 432x288 with 1 Axes>"
      ]
     },
     "metadata": {},
     "output_type": "display_data"
    }
   ],
   "source": [
    "# Predict the cluster for two points.\n",
    "mypredictions = mykmeans.predict(mynewvals)\n",
    "mypredictions\n",
    "# Plot the data set.\n",
    "plt.plot(myX[mykmeans.labels_ == 0][:,0], myX[mykmeans.labels_ == 0][:,1], 'gx')\n",
    "plt.plot(myX[mykmeans.labels_ == 1][:,0], myX[mykmeans.labels_ == 1][:,1], 'rx')\n",
    "plt.plot(mynewvals[mypredictions == 0][:,0], mynewvals[mypredictions == 0][:,1], 'go')\n",
    "plt.plot(mynewvals[mypredictions == 1][:,0], mynewvals[mypredictions == 1][:,1], 'ro')\n",
    "plt.show()\n"
   ]
  },
  {
   "cell_type": "code",
   "execution_count": 42,
   "metadata": {},
   "outputs": [
    {
     "data": {
      "image/png": "[encoded data removed]",
      "text/plain": [
       "<Figure size 432x288 with 1 Axes>"
      ]
     },
     "metadata": {},
     "output_type": "display_data"
    }
   ],
   "source": [
    "# The centres of clusters.\n",
    "mycent = mykmeans.cluster_centers_\n",
    "mycent\n",
    "# Plot the data set.\n",
    "plt.plot(myX[mykmeans.labels_ == 0][:,0], myX[mykmeans.labels_ == 0][:,1], 'gx')\n",
    "plt.plot(myX[mykmeans.labels_ == 1][:,0], myX[mykmeans.labels_ == 1][:,1], 'rx')\n",
    "plt.plot(mynewvals[mypredictions == 0][:,0], mynewvals[mypredictions == 0][:,1], 'go')\n",
    "plt.plot(mynewvals[mypredictions == 1][:,0], mynewvals[mypredictions == 1][:,1], 'ro')\n",
    "plt.plot(mycent[:,0], mycent[:,1], 'k.')\n",
    "plt.show()"
   ]
  },
  {
   "cell_type": "code",
   "execution_count": 1,
   "metadata": {},
   "outputs": [
    {
     "data": {
      "text/html": [
       "<div>\n",
       "<style scoped>\n",
       "    .dataframe tbody tr th:only-of-type {\n",
       "        vertical-align: middle;\n",
       "    }\n",
       "\n",
       "    .dataframe tbody tr th {\n",
       "        vertical-align: top;\n",
       "    }\n",
       "\n",
       "    .dataframe thead th {\n",
       "        text-align: right;\n",
       "    }\n",
       "</style>\n",
       "<table border=\"1\" class=\"dataframe\">\n",
       "  <thead>\n",
       "    <tr style=\"text-align: right;\">\n",
       "      <th></th>\n",
       "      <th>Id</th>\n",
       "      <th>SepalLengthCm</th>\n",
       "      <th>SepalWidthCm</th>\n",
       "      <th>PetalLengthCm</th>\n",
       "      <th>PetalWidthCm</th>\n",
       "      <th>Species</th>\n",
       "    </tr>\n",
       "  </thead>\n",
       "  <tbody>\n",
       "    <tr>\n",
       "      <th>0</th>\n",
       "      <td>1</td>\n",
       "      <td>5.1</td>\n",
       "      <td>3.5</td>\n",
       "      <td>1.4</td>\n",
       "      <td>0.2</td>\n",
       "      <td>Iris-setosa</td>\n",
       "    </tr>\n",
       "    <tr>\n",
       "      <th>1</th>\n",
       "      <td>2</td>\n",
       "      <td>4.9</td>\n",
       "      <td>3.0</td>\n",
       "      <td>1.4</td>\n",
       "      <td>0.2</td>\n",
       "      <td>Iris-setosa</td>\n",
       "    </tr>\n",
       "    <tr>\n",
       "      <th>2</th>\n",
       "      <td>3</td>\n",
       "      <td>4.7</td>\n",
       "      <td>3.2</td>\n",
       "      <td>1.3</td>\n",
       "      <td>0.2</td>\n",
       "      <td>Iris-setosa</td>\n",
       "    </tr>\n",
       "    <tr>\n",
       "      <th>3</th>\n",
       "      <td>4</td>\n",
       "      <td>4.6</td>\n",
       "      <td>3.1</td>\n",
       "      <td>1.5</td>\n",
       "      <td>0.2</td>\n",
       "      <td>Iris-setosa</td>\n",
       "    </tr>\n",
       "    <tr>\n",
       "      <th>4</th>\n",
       "      <td>5</td>\n",
       "      <td>5.0</td>\n",
       "      <td>3.6</td>\n",
       "      <td>1.4</td>\n",
       "      <td>0.2</td>\n",
       "      <td>Iris-setosa</td>\n",
       "    </tr>\n",
       "  </tbody>\n",
       "</table>\n",
       "</div>"
      ],
      "text/plain": [
       "   Id  SepalLengthCm  SepalWidthCm  PetalLengthCm  PetalWidthCm      Species\n",
       "0   1            5.1           3.5            1.4           0.2  Iris-setosa\n",
       "1   2            4.9           3.0            1.4           0.2  Iris-setosa\n",
       "2   3            4.7           3.2            1.3           0.2  Iris-setosa\n",
       "3   4            4.6           3.1            1.5           0.2  Iris-setosa\n",
       "4   5            5.0           3.6            1.4           0.2  Iris-setosa"
      ]
     },
     "execution_count": 1,
     "metadata": {},
     "output_type": "execute_result"
    }
   ],
   "source": [
    "# For numerical arrays\n",
    "import numpy as np\n",
    "# For k-clustering \n",
    "from sklearn.cluster import KMeans\n",
    "# For plots\n",
    "import matplotlib.pyplot as plt\n",
    "# For databases\n",
    "import pandas as pd\n",
    "# Import dataset\n",
    "\n",
    "# Read in the data\n",
    "Iris = pd.read_csv('Iris.csv')\n",
    "\n",
    "Iris.head()"
   ]
  },
  {
   "cell_type": "code",
   "execution_count": 13,
   "metadata": {},
   "outputs": [
    {
     "data": {
      "image/png": "[encoded data removed]",
      "text/plain": [
       "<Figure size 432x288 with 1 Axes>"
      ]
     },
     "metadata": {},
     "output_type": "display_data"
    },
    {
     "name": "stdout",
     "output_type": "stream",
     "text": [
      "Max sepal length is  7.9\n",
      "Max sepal width is  4.4\n",
      "Max petal length is  6.9\n",
      "Max petal width is  2.5\n"
     ]
    }
   ],
   "source": [
    "x1 = np.array(Iris['SepalLengthCm'])\n",
    "x2 = np.array(Iris['SepalWidthCm'])\n",
    "x3 = np.array(Iris['PetalLengthCm'])\n",
    "x4 = np.array(Iris['PetalWidthCm'])\n",
    "\n",
    "plt.plot()\n",
    "plt.title('Iris')\n",
    "plt.scatter(x1, x2)\n",
    "plt.xlabel('Sepal Length')\n",
    "plt.ylabel('Sepal Width')\n",
    "plt.show()\n",
    "\n",
    "print('Max sepal length is ',max(x1)) # =7.9, to confirm graph labels are accurate\n",
    "print('Max sepal width is ',max(x2)) # =4.4 \n",
    "print('Max petal length is ',max(x3)) # =6.9\n",
    "print('Max petal width is ',max(x4)) # =2.5"
   ]
  },
  {
   "cell_type": "markdown",
   "metadata": {},
   "source": [
    "## References\n",
    "<span id=\"sqrt-on-on\"> 1. A Tour of Go: Loops and Functions https://tour.golang.org/flowcontrol/8</span>\n",
    "\n",
    "<span id=\"sqrt-on-tw\"> 2. Newton's method: https://en.wikipedia.org/wiki/Newton%27s_method</span>\n",
    "\n",
    "<span id=\"sqrt-on-th\"> 3. Babylonian method: https://en.wikipedia.org/wiki/Square_root_of_2</span>\n",
    "\n",
    "<span id=\"sqrt-on-fo\"> 4. Accurate square root of 2: https://apod.nasa.gov/htmltest/gifcity/sqrt2.1mil</span>\n",
    "\n",
    "<span id=\"sqrt-on-fi\"> 5. Digit-by-digit method of calculating square root: https://en.wikipedia.org/wiki/Methods_of_computing_square_roots#Digit-by-digit_calculation</span>\n",
    "\n",
    "<span id=\"chi-tw-on\"> 6. Chi-squared test: https://en.wikipedia.org/wiki/Chi-squared_test</span>\n",
    "\n",
    "<span id=\"chi-tw-tw\"> 7. p-value: https://www.simplypsychology.org/p-value.html</span>\n",
    "\n",
    "<span id=\"chi-tw-th\"> 8. scipy.stats manual: https://docs.scipy.org/doc/scipy/reference/generated/scipy.stats.chi2_contingency.html</span>\n",
    "\n",
    "<span id=\"std-th-on\"> 9. Standard deviation https://en.wikipedia.org/wiki/Standard_deviation</span>\n",
    "\n",
    "<span id=\"std-th-tw\"> 10. STDEV Microsoft https://support.microsoft.com/en-us/office/stdev-s-function-7d69cf97-0c1f-4acf-be27-f3e83904cc23</span>\n",
    "\n",
    "<span id=\"std-th-th\"> 11. StackExchange's attempt at intuitive explanation https://stats.stackexchange.com/questions/3931/intuitive-explanation-for-dividing-by-n-1-when-calculating-standard-deviation\n",
    "\n",
    "<span id=\"std-th-fo\"> 12. Bessel's correction https://en.wikipedia.org/wiki/Bessel%27s_correction</span>\n",
    "\n",
    "<span id=\"std-th-fi\"> 13. LibreOffice functions https://help.libreoffice.org/Calc/Statistical_Functions_Part_Five#STDEV.P</span>\n",
    "\n",
    "<span id=\"std-th-si\"> 14. Quote http://iate.oac.uncor.edu/~mario/materia/nr/numrec/f14-1.pdf</span>\n"
   ]
  }
 ],
 "metadata": {
  "kernelspec": {
   "display_name": "Python 3",
   "language": "python",
   "name": "python3"
  },
  "language_info": {
   "codemirror_mode": {
    "name": "ipython",
    "version": 3
   },
   "file_extension": ".py",
   "mimetype": "text/x-python",
   "name": "python",
   "nbconvert_exporter": "python",
   "pygments_lexer": "ipython3",
   "version": "3.6.3"
  }
 },
 "nbformat": 4,
 "nbformat_minor": 2
}
