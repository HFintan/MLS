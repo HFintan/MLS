{
 "cells": [
  {
   "cell_type": "markdown",
   "metadata": {},
   "source": [
    "# Tasks\n",
    "Solutions to Ian McLoughlin's Tasks assessment, by Fintan Hegarty (fintan.hegarty@gmail.com) \n",
    "***"
   ]
  },
  {
   "cell_type": "markdown",
   "metadata": {},
   "source": [
    "## Task 1\n",
    "\n",
    "#### Calculate the square root of 2 to 100 decimal places"
   ]
  },
  {
   "cell_type": "markdown",
   "metadata": {},
   "source": [
    "In Example 1.1, we give a toy example. Approaches 1.2 and 1.4 fail due to insufficient computing power and precision. Approach 1.5 uses the digit-by-digit method and works. Testing 1.3 grabs the correct value for $\\sqrt{2}$ from both the sympy module and a website. Comparison 1.6 checks that our answer from Approach 1.5 is correct. \n",
    "\n",
    "[Final Answer](#sqrt-FA) is the function to compute and print the square root of two to 100 decimal places, and its execution.\n"
   ]
  },
  {
   "cell_type": "markdown",
   "metadata": {},
   "source": [
    "#### Example 1.1 Calculate the square root of 2 to ten decimal places "
   ]
  },
  {
   "cell_type": "markdown",
   "metadata": {},
   "source": [
    "We can calculate the square root of a number using Newton's method [<sup>1,</sup>](#sqrt-on-on)[<sup>2</sup>](#sqrt-on-tw).\n",
    "To find the square root $z$ of a number $x$, we iterate using the following formula, until a satisfactory error bound is met:\n",
    "\n",
    "$$ z_{i+1} = z_i-\\frac{z_i^2-x}{2z_i} $$\n"
   ]
  },
  {
   "cell_type": "code",
   "execution_count": 1,
   "metadata": {
    "collapsed": true
   },
   "outputs": [],
   "source": [
    "def newton_sqrt(x):\n",
    "    \"\"\"\n",
    "    A function to calculate the square root of a number x\n",
    "    \"\"\"\n",
    "    # initial guess for sqrt z\n",
    "    z=x/2\n",
    "    # loop until satisfactory guess\n",
    "    while abs(x - z*z) >0.0000000001 :\n",
    "        # make a better guess\n",
    "        z -= (z*z - x)/(2*z)\n",
    "    # return sufficiently close approximation to sqrt x.\n",
    "    # return ('{0:.10f}'.format(z))\n",
    "    return (round(z,10))    "
   ]
  },
  {
   "cell_type": "markdown",
   "metadata": {},
   "source": [
    "We test the function with some known values"
   ]
  },
  {
   "cell_type": "code",
   "execution_count": 2,
   "metadata": {},
   "outputs": [
    {
     "data": {
      "text/plain": [
       "10.0"
      ]
     },
     "execution_count": 2,
     "metadata": {},
     "output_type": "execute_result"
    }
   ],
   "source": [
    "# Test the function on 100\n",
    "newton_sqrt(100)"
   ]
  },
  {
   "cell_type": "code",
   "execution_count": 3,
   "metadata": {},
   "outputs": [
    {
     "data": {
      "text/plain": [
       "6.0"
      ]
     },
     "execution_count": 3,
     "metadata": {},
     "output_type": "execute_result"
    }
   ],
   "source": [
    "# Test the function on 36\n",
    "newton_sqrt(36)"
   ]
  },
  {
   "cell_type": "code",
   "execution_count": 4,
   "metadata": {},
   "outputs": [
    {
     "data": {
      "text/plain": [
       "1.4142135624"
      ]
     },
     "execution_count": 4,
     "metadata": {},
     "output_type": "execute_result"
    }
   ],
   "source": [
    "# Test the function on 2\n",
    "newton_sqrt(2)"
   ]
  },
  {
   "cell_type": "code",
   "execution_count": 5,
   "metadata": {},
   "outputs": [
    {
     "name": "stdout",
     "output_type": "stream",
     "text": [
      "numpy's value is\n",
      " 1.4142135623730951\n",
      "newton_sqrt's value is\n",
      " 1.4142135624\n",
      "They are different.\n"
     ]
    }
   ],
   "source": [
    "# Compare with numpy's sqrt function\n",
    "# (This does necessitate an import, which is presumably fine.)\n",
    "import numpy as np\n",
    "numpy_sqrttwo_value = np.sqrt(2)\n",
    "print(\"numpy's value is\\n\",'{0:.16f}'.format(numpy_sqrttwo_value))\n",
    "print(\"newton_sqrt's value is\\n\", newton_sqrt(2))\n",
    "\n",
    "if float(numpy_sqrttwo_value) == float(newton_sqrt(2)):\n",
    "    print(\"They are the same.\")\n",
    "else:\n",
    "    print(\"They are different.\")\n",
    "    "
   ]
  },
  {
   "cell_type": "markdown",
   "metadata": {},
   "source": [
    "This is not wholly surprising, and in any event, we're just comparing the printed values, as opposed to the actual value of the numbers we are describing. Using round instead:"
   ]
  },
  {
   "cell_type": "code",
   "execution_count": 6,
   "metadata": {},
   "outputs": [
    {
     "name": "stdout",
     "output_type": "stream",
     "text": [
      "numpy's value is\n",
      " 1.4142135624\n",
      "newton_sqrt's value is\n",
      " 1.4142135624\n",
      "They are the same.\n"
     ]
    }
   ],
   "source": [
    "# Compare with numpy's sqrt function using round\n",
    "import numpy as np\n",
    "numpy_sqrttwo_value_rounded = round(np.sqrt(2),10)\n",
    "newton_sqrttwo_rounded = round(newton_sqrt(2),10)\n",
    "print(\"numpy's value is\\n\", numpy_sqrttwo_value_rounded)\n",
    "print(\"newton_sqrt's value is\\n\", round(newton_sqrt(2),10))\n",
    "\n",
    "if numpy_sqrttwo_value_rounded==newton_sqrttwo_rounded:\n",
    "    print(\"They are the same.\")\n",
    "else:\n",
    "    print(\"They are different.\")\n"
   ]
  },
  {
   "cell_type": "markdown",
   "metadata": {},
   "source": [
    "#### Attempt 1.2\n",
    "\n",
    "The method used in Example 1.1 will not work for the square root of 100, as the computer can't handle it. Therefore we try a version of the Babylonian method, borrowed from Wikipedia[<sup>3</sup>](#sqrt-on-th)\n",
    "\n",
    "The formula here is\n",
    "\n",
    "$$ a_{i+1} = \\frac{a_i}{2}+\\frac{1}{i} $$"
   ]
  },
  {
   "cell_type": "code",
   "execution_count": 7,
   "metadata": {
    "collapsed": true
   },
   "outputs": [],
   "source": [
    "def bab_sqrt(x):\n",
    "    \"\"\"\n",
    "    A function to calculate the square root of a number x, hopefully more efficiently\n",
    "    than the Newton method.\n",
    "    \"\"\"\n",
    "    # initial guess for sqrt z\n",
    "    a=1\n",
    "    for i in range(1,100):\n",
    "    # loop until satisfactory guess\n",
    "        while abs(x - a*a) >0.000000000000001 :\n",
    "        # make a better guess\n",
    "            a = (a/2)+(1/a)\n",
    "    # return sufficiently close approximation to sqrt x.\n",
    "    return ('{0:.100f}'.format(a))\n",
    "    # print(float(\"{0:.100f}\".format(a)))\n",
    "    # print(round(a,100))"
   ]
  },
  {
   "cell_type": "code",
   "execution_count": 8,
   "metadata": {},
   "outputs": [
    {
     "data": {
      "text/plain": [
       "'1.4142135623730949234300169337075203657150268554687500000000000000000000000000000000000000000000000000'"
      ]
     },
     "execution_count": 8,
     "metadata": {},
     "output_type": "execute_result"
    }
   ],
   "source": [
    "bab_sqrt(2)"
   ]
  },
  {
   "cell_type": "markdown",
   "metadata": {},
   "source": [
    "These digits appear to be inaccurate (visually - though we compare below so we have the method for when it is less obvious) according to the NASA website[<sup>4</sup>](#sqrt-on-fo) listing of the number (or the value from sympy, as given below), and equally problematically, a load of zeros are being uselessly printed instead of the actual digits. However, the method appears to be sufficiently fast that it actually runs, so that's a plus."
   ]
  },
  {
   "cell_type": "markdown",
   "metadata": {},
   "source": [
    "#### Testing 1.3\n",
    "We grab the value of the square root of 2 from nasa.gov [<sup>4</sup>](#sqrt-on-fo) (and also using sqrt from sympy), for a comparison with the value we get, to confirm its accuracy."
   ]
  },
  {
   "cell_type": "code",
   "execution_count": 9,
   "metadata": {},
   "outputs": [
    {
     "name": "stdout",
     "output_type": "stream",
     "text": [
      "The correct value of square root two to 100 places is\n",
      " 1.4142135623730950488016887242096980785696718753769480731766797379907324784621070388503875343276415727\n"
     ]
    }
   ],
   "source": [
    "# (This does necessitate imports for grabbing data and regexing, which is presumably fine,\n",
    "#   as we are only using it for comparison, as opposed to calculating.)\n",
    "import requests\n",
    "import re\n",
    "# Grab page content as string\n",
    "page = requests.get(\"https://apod.nasa.gov/htmltest/gifcity/sqrt2.1mil\").text\n",
    "\n",
    "# Get rid of newlines\n",
    "page = page.replace(\"\\n\",\"\")\n",
    "\n",
    "# Search for string beginning with 1.4 and grab the following 99 digits\n",
    "# group(0) just takes the actual string as opposed to the object\n",
    "real_sqrttwo_value = re.search(\"1.4\\d{99}\", page).group(0)\n",
    "print(\"The correct value of square root two to 100 places is\\n\", real_sqrttwo_value)"
   ]
  },
  {
   "cell_type": "code",
   "execution_count": 10,
   "metadata": {
    "scrolled": true
   },
   "outputs": [
    {
     "name": "stdout",
     "output_type": "stream",
     "text": [
      "1.4142135623730950488016887242096980785696718753769480731766797379907324784621070388503875343276415727\n"
     ]
    }
   ],
   "source": [
    "# Again, this import is just for comparison.\n",
    "from sympy import sqrt\n",
    "sympy_sqrttwo_value=sqrt(2).evalf(101)\n",
    "print(sympy_sqrttwo_value)"
   ]
  },
  {
   "cell_type": "code",
   "execution_count": 11,
   "metadata": {},
   "outputs": [
    {
     "name": "stdout",
     "output_type": "stream",
     "text": [
      "They are different.\n",
      "They are the same.\n"
     ]
    }
   ],
   "source": [
    "if round(float(bab_sqrt(2)),100)==round(float(real_sqrttwo_value),100):\n",
    "    print (\"They are the same.\")\n",
    "else:\n",
    "    print (\"They are different.\")\n",
    "    \n",
    "if round(float(sympy_sqrttwo_value),100)==round(float(real_sqrttwo_value),100):\n",
    "    print (\"They are the same.\")\n",
    "else:\n",
    "    print (\"They are different.\")\n",
    "    "
   ]
  },
  {
   "cell_type": "markdown",
   "metadata": {},
   "source": [
    "#### Approach 1.4\n",
    "\n",
    "The decimal precision appears problematic. Perhaps we can calculate the same number to some power of 10, to give the correct digits, with only the decimal point misplaced?\n",
    "If $n=\\sqrt{2}$, then $10n=\\sqrt{100\\times 2}$, so to calculate $n$ we can calculate $\\sqrt{100\\times 2}$ and move the decimal point one place to the right."
   ]
  },
  {
   "cell_type": "code",
   "execution_count": 12,
   "metadata": {},
   "outputs": [
    {
     "name": "stdout",
     "output_type": "stream",
     "text": [
      "n is  1.4142135624\n",
      "n is  14.1421356237  with the decimal to be moved one space to the right.\n"
     ]
    }
   ],
   "source": [
    "n=newton_sqrt(2)\n",
    "print('n is ',n)\n",
    "f=newton_sqrt(100*2)\n",
    "print('n is ',f,' with the decimal to be moved one space to the right.')"
   ]
  },
  {
   "cell_type": "markdown",
   "metadata": {},
   "source": [
    "Let $n=\\sqrt{2}$. Let $f$ (the 'fake' evaluation, whose decimal point we will move) be $10^{100}$ times bigger than $\\sqrt{2}$ (so the decimal point will be 100 places to the left of where we want it). So the number under the square root sign will be $ 10^{200}$ times bigger than $2$; i.e., $f=\\sqrt{2\\times10^{200}}$, and then we will move the decimal point 100 places to the right.\n"
   ]
  },
  {
   "cell_type": "code",
   "execution_count": 13,
   "metadata": {},
   "outputs": [
    {
     "name": "stdout",
     "output_type": "stream",
     "text": [
      "141.4213562372999888339109020307660102844238281250000000000000000000000000000000000000000000000000000000\n"
     ]
    }
   ],
   "source": [
    "f = 2*10**(4) \n",
    "answer = format(newton_sqrt(f), ',.100f') \n",
    "print(answer)"
   ]
  },
  {
   "cell_type": "markdown",
   "metadata": {},
   "source": [
    "This appears to be on the right track, but the newton_sqrt method is struggling for bigger powers, so a different approach to newton_sqrt may be required."
   ]
  },
  {
   "cell_type": "markdown",
   "metadata": {},
   "source": [
    "#### Approach 1.5\n",
    "We will try the digit-by-digit approach of calculating the square root, as detailed, for example on Wikipedia.[<sup>5</sup>](#sqrt-on-fi)\n",
    "Though the idea used here is largely the same as there, we can take some short-cuts; e.g., we know we start with 2, and that all we will add to the right-hand side will be pairs of zeros."
   ]
  },
  {
   "cell_type": "code",
   "execution_count": 14,
   "metadata": {},
   "outputs": [
    {
     "name": "stdout",
     "output_type": "stream",
     "text": [
      "14142135623730950488016887242096980785696718753769480731766797379907324784621070388503875343276415727\n"
     ]
    }
   ],
   "source": [
    "# Initialise values\n",
    "# I've used c and r where only c is mentioned on wikipedia, but they're just different stages of the same thing.\n",
    "c=2; x=0; y=0; r=0; A=0; p=0;\n",
    "\n",
    "# Handling the first iteration separately makes the loop less complicated to write\n",
    "while (x+1)*(20*p+(x+1))<=2:\n",
    "    x=x+1\n",
    "y=x*(20*p+x)\n",
    "r=c-y\n",
    "A=x\n",
    "\n",
    "# This is simpler than the example on the wiki, because we know we are only appending\n",
    "# 00s, so no need for dividing up part of a string and grabbing two pieces, etc.\n",
    "# We do end up with a number 10^100 times bigger than what we want, because we've\n",
    "# ignored the decimals, but I'll stick that in afterwards.\n",
    "for i in range(1,101):\n",
    "    c=100*r; x=0; y=0; p=A;\n",
    "    while (x+1)*((20*p)+(x+1))<=c:\n",
    "        x=x+1\n",
    "    y=x*(20*p+x)\n",
    "    r=c-y\n",
    "    # This serves the purpose of appending x to A\n",
    "    A=A*10+x\n",
    "print(A)"
   ]
  },
  {
   "cell_type": "code",
   "execution_count": 15,
   "metadata": {},
   "outputs": [
    {
     "name": "stdout",
     "output_type": "stream",
     "text": [
      "1.4142135623730951454746218587388284504413604736328125000000000000000000000000000000000000000000000000\n"
     ]
    }
   ],
   "source": [
    "Ans=format(A/(10**100), ',.100f')\n",
    "print(Ans)"
   ]
  },
  {
   "cell_type": "markdown",
   "metadata": {},
   "source": [
    "I guess we'll have to preserve it as a string, and just insert the decimal point."
   ]
  },
  {
   "cell_type": "code",
   "execution_count": 16,
   "metadata": {},
   "outputs": [
    {
     "name": "stdout",
     "output_type": "stream",
     "text": [
      "1.4142135623730950488016887242096980785696718753769480731766797379907324784621070388503875343276415727\n"
     ]
    }
   ],
   "source": [
    "# Sticking in the decimal\n",
    "stringA=str(A)\n",
    "Ans=stringA[:1] + '.' + stringA[1:]\n",
    "print(Ans)"
   ]
  },
  {
   "cell_type": "markdown",
   "metadata": {},
   "source": [
    "#### Comparison 1.6\n",
    "We compare the string with actual values acquired from sympy and nasa website to confirm accuracy. (Also with the incorrect (excessively rounded) value from numpy as a control. "
   ]
  },
  {
   "cell_type": "code",
   "execution_count": 17,
   "metadata": {},
   "outputs": [
    {
     "name": "stdout",
     "output_type": "stream",
     "text": [
      "True\n",
      "False\n",
      "True\n"
     ]
    }
   ],
   "source": [
    "# Testing by comparing strings\n",
    "print(Ans==str(sympy_sqrttwo_value))\n",
    "print(Ans==str(numpy_sqrttwo_value))\n",
    "print(Ans==str(real_sqrttwo_value))"
   ]
  },
  {
   "cell_type": "markdown",
   "metadata": {},
   "source": [
    "#### Answer 1.7"
   ]
  },
  {
   "cell_type": "code",
   "execution_count": 18,
   "metadata": {},
   "outputs": [
    {
     "name": "stdout",
     "output_type": "stream",
     "text": [
      "The square root of 2, to 100 decimal places is\n",
      " 1.4142135623730950488016887242096980785696718753769480731766797379907324784621070388503875343276415727\n"
     ]
    }
   ],
   "source": [
    "print(\"The square root of 2, to 100 decimal places is\\n\",Ans)"
   ]
  },
  {
   "cell_type": "markdown",
   "metadata": {},
   "source": [
    "\n",
    "#### <span id=\"sqrt-FA\">FINAL ANSWER TO TASK 1:</span>"
   ]
  },
  {
   "cell_type": "code",
   "execution_count": 1,
   "metadata": {
    "collapsed": true
   },
   "outputs": [],
   "source": [
    "def sqrt2():\n",
    "    c=2; x=0; y=0; r=0; A=0; p=0;\n",
    "    while (x+1)*(20*p+(x+1))<=2:\n",
    "        x=x+1\n",
    "    y=x*(20*p+x)\n",
    "    r=c-y\n",
    "    A=x\n",
    "    for i in range(1,101):\n",
    "        c=100*r; x=0; y=0; p=A;\n",
    "        while (x+1)*((20*p)+(x+1))<=c:\n",
    "            x=x+1\n",
    "        y=x*(20*p+x)\n",
    "        r=c-y\n",
    "        A=A*10+x\n",
    "        stringA=str(A)\n",
    "        Ans=stringA[:1] + '.' + stringA[1:]\n",
    "    print(Ans)"
   ]
  },
  {
   "cell_type": "code",
   "execution_count": 2,
   "metadata": {},
   "outputs": [
    {
     "name": "stdout",
     "output_type": "stream",
     "text": [
      "1.4142135623730950488016887242096980785696718753769480731766797379907324784621070388503875343276415727\n"
     ]
    }
   ],
   "source": [
    "sqrt2()"
   ]
  },
  {
   "cell_type": "markdown",
   "metadata": {},
   "source": [
    "***\n",
    "\n",
    "## Task 2\n",
    "| |A|B|C|D|Total\n",
    "| --- | --- | --- | --- | --- | --- |\n",
    "| White collar|90|60|104|95|349 |\n",
    "| Blue collar|30|50|51|20|151|\n",
    "| No collar|30|40|45|35|150|\n",
    "| Total|150|150|200|150|650|\n",
    "\n",
    "#### Use scipy.stats  [<sup>8</sup>](#chi-tw-th) to verify the $\\chi^{2}$ value [<sup>6</sup>](#chi-tw-on) of this table is 24.6, and calculate the associated $p$ value. [<sup>7</sup>](#chi-tw-tw)\n",
    "    \n"
   ]
  },
  {
   "cell_type": "code",
   "execution_count": 21,
   "metadata": {
    "scrolled": true
   },
   "outputs": [
    {
     "name": "stdout",
     "output_type": "stream",
     "text": [
      "               A   B    C   D\n",
      "White collar  90  60  104  95\n",
      "Blue collar   30  50   51  20\n",
      "No collar     30  40   45  35 \n",
      "\n",
      "The test statistic value is 24.5712028585826 . \n",
      "\n",
      "The p value value is 0.0004098425861096696 . \n",
      "\n",
      "There are 6 degrees of freedom. \n",
      "\n",
      "The expected value matrix if neighbourhood and collar were independent would be\n",
      " [[ 80.53846154  80.53846154 107.38461538  80.53846154]\n",
      " [ 34.84615385  34.84615385  46.46153846  34.84615385]\n",
      " [ 34.61538462  34.61538462  46.15384615  34.61538462]] .\n",
      "\n"
     ]
    }
   ],
   "source": [
    "import numpy as np\n",
    "import pandas as pd\n",
    "import scipy.stats as st\n",
    "\n",
    "# First we create the data frame; there's no need to include the totals, as these will\n",
    "# be calculated by python later\n",
    "deets={'A': [90,30,30], 'B': [60,50,40], 'C': [104,51,45], 'D': [95,20,35]}\n",
    "df = pd.DataFrame(data=deets)\n",
    "df.index=[\"White collar\", \"Blue collar\", \"No collar\"]\n",
    "print(df,'\\n')\n",
    "\n",
    "# let scipy.stats do all the hard work, and assign the values\n",
    "chi2, pv, dof, exp  = st.chi2_contingency(df)\n",
    "print('The test statistic value is', chi2, '. \\n')\n",
    "print('The p value value is', pv, '. \\n')\n",
    "print('There are', dof, 'degrees of freedom. \\n')\n",
    "print('The expected value matrix if neighbourhood and collar were independent would be\\n', exp, '.\\n')"
   ]
  },
  {
   "cell_type": "markdown",
   "metadata": {},
   "source": [
    "The p value here (0.00041) is very small, certainly smaller than any alpha level/threshold of significance we are likely to be asked to test for, so we may reject the null hypothesis; i.e., we cannot say that the collar colour and region are independent."
   ]
  },
  {
   "cell_type": "markdown",
   "metadata": {},
   "source": [
    "***\n",
    "# Task 3\n",
    "\n",
    "#### Describe and contrast Excel's STDEV.P and STDEV.S. Use numpy to perform a simulation demonstrating that STDEV.S is a better estimate for the standard deviation of a population when performed on a sample. "
   ]
  },
  {
   "cell_type": "markdown",
   "metadata": {},
   "source": [
    "The formula for the standard deviation [<sup>9</sup>](#std-th-on) of a population is\n",
    "$$\\sigma=\\sqrt{\\frac{\\sum_{i=1}^N(x_i-\\mu)^2}{N}},$$\n",
    "where $N$ is the size of the population and $\\mu$ is the mean of the population.\n",
    "\n",
    "This is calculated in Microsoft Excel [<sup>10</sup>](#std-th-tw) with the function STDEV.P.\n",
    "\n",
    "Often, we do not have a full population, and only have a sample to calculate with. Intuitively, the expected values of the variance and deviation of a sample are greater than those of the population itself. (E.g., selecting 1000 random points from a normal distribution is likely to give a more accurate idea of the spread of the population's data than a sample of just 10 points, where adding one or two extra points could have a large effect on the expected variance and deviation of the sample. As the size of the sample approaches the size of the population, the variability of the values tends to the settle down.)\n",
    "\n",
    "To reduce the value of the formula above, we increase the value of the denominator. \n",
    "This is a somewhat intuitive justification for the amended formula. The \"intuitive\"[<sup>11</sup>](#std-th-th) justification for changing the value of the denominator from $n$ to $n-1$ seems to really be either empirical or algebraic. Empirical support seems to be the latter part of the question, and an algebraic proof seems beyond the scope of the module, so I will refrain from copy and pasting it from, for example, Wikipedia's entry on Bessel's correction[<sup>12</sup>](#std-th-fo). \n",
    "\n",
    "The formula for the standard deviation for a sample (note the denominator change - the other variables are simply statistical analogues of the sample to the population parameters).\n",
    "\n",
    "$$s=\\sqrt{\\frac{\\sum_{i=1}^N(x_i-\\bar{x})^2}{N-1}}.$$\n",
    "\n",
    "This is calculated in Microsoft Excel using STDEV.S.\n",
    "\n",
    "These formulas are not unique to Excel; I will use the LibreOffice functions, since I am not on a Windows machine, but they are identical - even the names STDEV.P[<sup>13</sup>](#std-th-fi) and STDEV.S are the same.\n",
    "\n",
    "\n"
   ]
  },
  {
   "cell_type": "markdown",
   "metadata": {},
   "source": [
    "Before using python to run the simulations, we shall first run a TOY EXAMPLE with LibreOffice itself. \n",
    "\n",
    "Using =NORMINV(RAND(),50,10) to generate 1000 random points on a normal distribution about mean 50, with standard deviation 10, we get the following parameters:\n",
    "$\\mu=49.66256017$ and $\\sigma=10.093648$\n",
    "\n",
    "Next we run ten tests, selecting samples of size 100 to see if using STDEV.S is more accurate than STDEV.P (i.e., closer to the real $\\sigma$. I will embolden the more accurate (i.e. the smaller error).\n",
    "\n",
    "| | STDEV.P | STDEV.P error | STDEV.S | STDEV.S error \n",
    "| --- | --- | --- | --- | --- |\n",
    "| Sample 1 | 9.3046374272 |\t0.7047273716 | 10.6078393083 | **0.5984745095** |\n",
    "| Sample 2 | 10.1415558481 | **0.1321910493** | 10.1926471329 | 0.1832823341 |\n",
    "| Sample 3 | 9.7361852347 | 0.2731795642 | 9.7852343372 | **0.2241304616** |\n",
    "| Sample 4 | 9.5072365378 | 0.502128261 | 9.5551322391 | **0.4542325597** |\n",
    "| Sample 5 | 9.9778339813 | 0.0315308175 | 10.0281004656 | **0.0187356668** |\n",
    "| Sample 6 | 10.6518134966 | **0.6424486978** | 10.7054753651 | 0.6961105663 |\n",
    "| Sample 7 | 10.5777728298 | **0.568408031** | 10.6310616952 | 0.6216968963 |\n",
    "| Sample 8 | 10.0698784086 | **0.0605136098** | 10.1206085957 | 0.1112437969 |\n",
    "| Sample 9 | 9.8311596107 | 0.1782051881 | 9.8806871766 | **0.1286776222** |\n",
    "| Sample 10 | 9.75063108 | 0.2587337188 | 9.7997529581 | **0.2096118407** |\n",
    "\n",
    "STDEV.S appears to be slightly more accurate, but nothing definitive. This is because the sample size is very large, so the difference between $n-1$ and $n$ verges on negligible, especially given that the square root thereof is being taken, so any difference can be lost in rounding error.\n",
    "\n",
    "Let us try with smaller samples; here the size of the samples is 30.\n",
    "\n",
    "| | STDEV.P | STDEV.P error | STDEV.S | STDEV.S error\n",
    "| --- | --- | --- | --- | --- |\n",
    "| Sample 11 | 9.7154559039 | 0.3565769483 | 9.8815441042 | **0.190488748** | \n",
    "| Sample 12 | 11.1611084634 | **1.0890756113** | 11.3519104635 | 1.2798776114 | \n",
    "| Sample 13 | 8.193434327 | 1.8785985252 | 8.3335031796 | **1.7385296725** | \n",
    "| Sample 14 | 8.5661010318 | 1.5059318204 | 8.7125407169 | **1.3594921352** | \n",
    "| Sample 15 | 10.0946507718 | **0.0226179197** | 10.2672214052 | 0.1951885531 | \n",
    "| Sample 16 | 8.6089441108 | 1.4630887413 | 8.7561162094 | **1.3159166428** | \n",
    "| Sample 17 | 10.7962155689 | **0.7241827168** | 10.9807796317 | 0.9087467796 | \n",
    "| Sample 18 | 11.4288570799 | **1.3568242278** | 11.624236311 | 1.5522034589 | \n",
    "| Sample 19 | 8.4831631569 | 1.5888696952 | 8.6281849979 | **1.4438478542** | \n",
    "| Sample 20 | 9.5078689204 | 0.5641639317 | 9.6704083682 | **0.4016244839** | \n",
    "\n",
    "Again, it appears the STDEV.S is almost imperceptibly better. Let us reduce the sample size to 20.\n",
    "Population standard deviation here is 9.8009880294\n",
    "\n",
    "| | STDEV.P | STDEV.P error | STDEV.S | STDEV.S error | \n",
    "| --- | --- | --- | --- | --- |\n",
    "| Sample 21 | 8.9543507265 | 0.855529568 | 9.1869700024\t| **0.6229102921** | \n",
    "| Sample 22 | 7.173992363 | 2.6358879315 | 7.3603608624 | **2.449519432** | \n",
    "| Sample 23 | 9.1693162757 | 0.6405640188 | 9.4075200023 | **0.4023602922** | \n",
    "| Sample 24 | 6.6062972858 | 3.2035830087 | 6.7779180026 | **3.0319622918** | \n",
    "| Sample 25 | 9.7734860099 | **0.0363942846** | 10.0273850705 | 0.2175047761 | \n",
    "| Sample 26 | 7.5169705153 | 2.2929097792 | 7.712249022 | **2.0976312725** | \n",
    "| Sample 27 | 7.2992629442 | 2.5106173503 | 7.4888857669 | **2.3209945275** | \n",
    "| Sample 28 | 8.5553287119 | 1.2545515826 | 8.7775820534 | **1.0322982411** | \n",
    "| Sample 29 | 10.2223885418 | **0.4125082473** | 10.4879493505 | 0.678069056 | \n",
    "| Sample 30 | 10.2358938189 | **0.4260135245** | 10.5018054725 | 0.691925178 | \n",
    "\n",
    "It is a little clearer here that STDEV.S is an improvement over STDEV.P, but it's not as clear-cut as I would like it to be before moving on, so let us try sample sizes of 15, and then hopefully we can move on from this increasingly inaccurately named toy example. Population standard deviation here 9.853738619. (These values are slightly different because the random data points regenerate each turn).\n",
    "\n",
    "| | STDEV.P | STDEV.P error | STDEV.S | STDEV.S error | \n",
    "| --- | --- | --- | --- | --- |\n",
    "| Sample 31 | 7.49088399 | 2.3628546294 | 7.7538015758 | **2.0999370436** |\n",
    "| Sample 32 | 7.2096096068 | 2.6441290126 | 7.4626549289 | **2.3910836904** | \n",
    "| Sample 33 | 5.6865952012 | 4.1671434182 | 5.8861852474 | **3.967553372** | \n",
    "| Sample 34 | 6.9213163568 | 2.9324222625 | 7.1642430647 | **2.6894955546** | \n",
    "| Sample 35 | 5.8503851354 | 4.003353484 | 6.0557239362 | **3.7980146831** | \n",
    "| Sample 36 | 9.1134699117 | 0.7402687077 | 9.4333375682 | **0.4204010511** | \n",
    "| Sample 37| 10.6467176607 | **0.7929790413** | 11.0203997665 | 1.1666611471 | \n",
    "| Sample 38 | 9.5626527735 | 0.2910858458 | 9.8982860024 | **0.0445473831** | \n",
    "| Sample 39 |4.9724232579 | 4.8813153614 | 5.1469470551 | **4.7067915642** | \n",
    "| Sample 40 | 11.9735258233 | **2.119787204** | 12.3937766919 | 2.5400380725 | \n",
    "\n",
    "This seems illustrative that STDEV.S is an improvement over STDEV.P for sufficiently small samples.\n",
    "A quote from Press et al.[<sup>14</sup>](#std-th-si) feels appropriate at this juncture...\n",
    "\n",
    "*\"...if the difference between $n$ and $n-1$ ever matters to you, then you are probably up to no good anyway – e.g. trying to substantiate a questionable hypothesis with marginal data...\"*\n",
    "\n",
    "\n"
   ]
  },
  {
   "cell_type": "code",
   "execution_count": 197,
   "metadata": {},
   "outputs": [
    {
     "data": {
      "image/png": "[encoded data removed]",
      "text/plain": [
       "<Figure size 432x288 with 1 Axes>"
      ]
     },
     "metadata": {},
     "output_type": "display_data"
    },
    {
     "name": "stdout",
     "output_type": "stream",
     "text": [
      "10.205337700397616\n"
     ]
    }
   ],
   "source": [
    "import numpy as np\n",
    "import matplotlib.pyplot as plt\n",
    "\n",
    "# Two functions\n",
    "\n",
    "# stddevS for a sample\n",
    "def stddevS(x):\n",
    "    samplestd=np.sqrt(np.sum((x-np.mean(x))**2)/(len(x)-1));\n",
    "    return samplestd\n",
    "\n",
    "# stddevP for population\n",
    "def stddevP(x):\n",
    "    popstd=np.sqrt(np.sum((x-np.mean(x))**2)/len(x));\n",
    "    return popstd\n",
    "\n",
    "# So, as in the toy example previously, simply put, we want to\n",
    "# 1. Create a population\n",
    "# 2. Create some samples\n",
    "# 3. Check which formula is more accurate.\n",
    "\n",
    "# Possible further: Investigate effect of population and sample sizes. As sample size approaches population\n",
    "# size, expect difference between stddevP and stddevS errors to disappear.\n",
    "# May be worth investigating the effect of sample size, and of varying standard deviations.\n",
    "\n",
    "\n",
    "# 1 Create population \n",
    "x = np.random.normal(50, 10, 100)\n",
    "plt.hist(x,100,color='red')\n",
    "plt.show()\n",
    "\n",
    "sigma = stddevP(x)\n",
    "print(sigma)\n"
   ]
  },
  {
   "cell_type": "code",
   "execution_count": 207,
   "metadata": {},
   "outputs": [
    {
     "data": {
      "image/png": "[encoded data removed]",
      "text/plain": [
       "<Figure size 432x288 with 1 Axes>"
      ]
     },
     "metadata": {},
     "output_type": "display_data"
    },
    {
     "name": "stdout",
     "output_type": "stream",
     "text": [
      "Difference between std dev of population and stddevP of sample is\n",
      " 2.4851248717145005\n",
      "Difference between std dev of population and stddevS of sample is\n",
      " 2.067518847100967\n"
     ]
    }
   ],
   "source": [
    "# 2.\n",
    "# Select a random sample from the population we've just created \n",
    "sample = np.random.choice(x, 10)\n",
    "plt.hist(x,100,color='red')\n",
    "plt.hist(sample,100,color='blue')\n",
    "plt.show()\n",
    "\n",
    "# 3. \n",
    "# Check which is closer.\n",
    "print('Difference between std dev of population and stddevP of sample is\\n', abs(sigma-stddevP(sample)))\n",
    "print('Difference between std dev of population and stddevS of sample is\\n', abs(sigma-stddevS(sample)))\n"
   ]
  },
  {
   "cell_type": "markdown",
   "metadata": {},
   "source": [
    "As with the toy example, repeated runs of this stddevP vs stddevS are disappointingly unclear. \n",
    "\n",
    "I will run a larger sample, varying population size, sample size (as a percentage of population size), and standard deviation of population size (as a percentage).\n",
    "\n",
    "\n",
    "\n"
   ]
  },
  {
   "cell_type": "code",
   "execution_count": 209,
   "metadata": {},
   "outputs": [
    {
     "data": {
      "image/png": "[encoded data removed]",
      "text/plain": [
       "<Figure size 432x288 with 1 Axes>"
      ]
     },
     "metadata": {},
     "output_type": "display_data"
    },
    {
     "data": {
      "image/png": "[encoded data removed]",
      "text/plain": [
       "<Figure size 432x288 with 1 Axes>"
      ]
     },
     "metadata": {},
     "output_type": "display_data"
    },
    {
     "data": {
      "image/png": "[encoded data removed]",
      "text/plain": [
       "<Figure size 432x288 with 1 Axes>"
      ]
     },
     "metadata": {},
     "output_type": "display_data"
    },
    {
     "data": {
      "image/png": "[encoded data removed]",
      "text/plain": [
       "<Figure size 432x288 with 1 Axes>"
      ]
     },
     "metadata": {},
     "output_type": "display_data"
    },
    {
     "data": {
      "image/png": "[encoded data removed]",
      "text/plain": [
       "<Figure size 432x288 with 1 Axes>"
      ]
     },
     "metadata": {},
     "output_type": "display_data"
    },
    {
     "data": {
      "image/png": "[encoded data removed]",
      "text/plain": [
       "<Figure size 432x288 with 1 Axes>"
      ]
     },
     "metadata": {},
     "output_type": "display_data"
    },
    {
     "data": {
      "image/png": "[encoded data removed]",
      "text/plain": [
       "<Figure size 432x288 with 1 Axes>"
      ]
     },
     "metadata": {},
     "output_type": "display_data"
    },
    {
     "data": {
      "image/png": "[encoded data removed]",
      "text/plain": [
       "<Figure size 432x288 with 1 Axes>"
      ]
     },
     "metadata": {},
     "output_type": "display_data"
    },
    {
     "data": {
      "image/png": "[encoded data removed]",
      "text/plain": [
       "<Figure size 432x288 with 1 Axes>"
      ]
     },
     "metadata": {},
     "output_type": "display_data"
    },
    {
     "data": {
      "image/png": "[encoded data removed]",
      "text/plain": [
       "<Figure size 432x288 with 1 Axes>"
      ]
     },
     "metadata": {},
     "output_type": "display_data"
    }
   ],
   "source": [
    "for i in range(10):\n",
    "    sample = np.random.choice(x, 10)\n",
    "    plt.hist(x,100,color='red')\n",
    "    plt.hist(sample,100,color='blue')\n",
    "    plt.show()"
   ]
  },
  {
   "cell_type": "markdown",
   "metadata": {},
   "source": [
    "## References\n",
    "<span id=\"sqrt-on-on\"> 1. A Tour of Go: Loops and Functions https://tour.golang.org/flowcontrol/8</span>\n",
    "\n",
    "<span id=\"sqrt-on-tw\"> 2. Newton's method: https://en.wikipedia.org/wiki/Newton%27s_method</span>\n",
    "\n",
    "<span id=\"sqrt-on-th\"> 3. Babylonian method: https://en.wikipedia.org/wiki/Square_root_of_2</span>\n",
    "\n",
    "<span id=\"sqrt-on-fo\"> 4. Accurate square root of 2: https://apod.nasa.gov/htmltest/gifcity/sqrt2.1mil</span>\n",
    "\n",
    "<span id=\"sqrt-on-fi\"> 5. Digit-by-digit method of calculating square root: https://en.wikipedia.org/wiki/Methods_of_computing_square_roots#Digit-by-digit_calculation</span>\n",
    "\n",
    "<span id=\"chi-tw-on\"> 6. Chi-squared test: https://en.wikipedia.org/wiki/Chi-squared_test</span>\n",
    "\n",
    "<span id=\"chi-tw-tw\"> 7. p-value: https://www.simplypsychology.org/p-value.html</span>\n",
    "\n",
    "<span id=\"chi-tw-th\"> 8. scipy.stats manual: https://docs.scipy.org/doc/scipy/reference/generated/scipy.stats.chi2_contingency.html</span>\n",
    "\n",
    "<span id=\"std-th-on\"> 9. Standard deviation https://en.wikipedia.org/wiki/Standard_deviation</span>\n",
    "\n",
    "<span id=\"std-th-tw\"> 10. STDEV Microsoft https://support.microsoft.com/en-us/office/stdev-s-function-7d69cf97-0c1f-4acf-be27-f3e83904cc23</span>\n",
    "\n",
    "<span id=\"std-th-th\"> 11. StackExchange's attempt at intuitive explanation https://stats.stackexchange.com/questions/3931/intuitive-explanation-for-dividing-by-n-1-when-calculating-standard-deviation\n",
    "\n",
    "<span id=\"std-th-fo\"> 12. Bessel's correction https://en.wikipedia.org/wiki/Bessel%27s_correction</span>\n",
    "\n",
    "<span id=\"std-th-fi\"> 13. LibreOffice functions https://help.libreoffice.org/Calc/Statistical_Functions_Part_Five#STDEV.P</span>\n",
    "\n",
    "<span id=\"std-th-si\"> 14. Quote http://iate.oac.uncor.edu/~mario/materia/nr/numrec/f14-1.pdf</span>\n"
   ]
  },
  {
   "cell_type": "code",
   "execution_count": 214,
   "metadata": {},
   "outputs": [
    {
     "data": {
      "image/png": "[encoded data removed]",
      "text/plain": [
       "<Figure size 432x288 with 1 Axes>"
      ]
     },
     "metadata": {},
     "output_type": "display_data"
    }
   ],
   "source": [
    "import matplotlib.pyplot as plt\n",
    "import matplotlib.animation as animation\n",
    "import time\n",
    "\n",
    "fig = plt.figure()\n",
    "ax1 = fig.add_subplot(1,1,1)\n",
    "\n",
    "def animate(i):\n",
    "    pullData = open(\"testdata\",\"r\").read()\n",
    "    dataArray = pullData.split('\\n')\n",
    "    xar = []\n",
    "    yar = []\n",
    "    for eachLine in dataArray:\n",
    "        if len(eachLine)>1:\n",
    "            x,y = eachLine.split(',')\n",
    "            xar.append(int(x))\n",
    "            yar.append(int(y))\n",
    "    ax1.clear()\n",
    "    ax1.plot(xar,yar)\n",
    "ani = animation.FuncAnimation(fig, animate, interval=1000)\n",
    "plt.show()\n"
   ]
  },
  {
   "cell_type": "code",
   "execution_count": 360,
   "metadata": {},
   "outputs": [
    {
     "data": {
      "application/javascript": [
       "/* Put everything inside the global mpl namespace */\n",
       "window.mpl = {};\n",
       "\n",
       "\n",
       "mpl.get_websocket_type = function() {\n",
       "    if (typeof(WebSocket) !== 'undefined') {\n",
       "        return WebSocket;\n",
       "    } else if (typeof(MozWebSocket) !== 'undefined') {\n",
       "        return MozWebSocket;\n",
       "    } else {\n",
       "        alert('Your browser does not have WebSocket support. ' +\n",
       "              'Please try Chrome, Safari or Firefox ≥ 6. ' +\n",
       "              'Firefox 4 and 5 are also supported but you ' +\n",
       "              'have to enable WebSockets in about:config.');\n",
       "    };\n",
       "}\n",
       "\n",
       "mpl.figure = function(figure_id, websocket, ondownload, parent_element) {\n",
       "    this.id = figure_id;\n",
       "\n",
       "    this.ws = websocket;\n",
       "\n",
       "    this.supports_binary = (this.ws.binaryType != undefined);\n",
       "\n",
       "    if (!this.supports_binary) {\n",
       "        var warnings = document.getElementById(\"mpl-warnings\");\n",
       "        if (warnings) {\n",
       "            warnings.style.display = 'block';\n",
       "            warnings.textContent = (\n",
       "                \"This browser does not support binary websocket messages. \" +\n",
       "                    \"Performance may be slow.\");\n",
       "        }\n",
       "    }\n",
       "\n",
       "    this.imageObj = new Image();\n",
       "\n",
       "    this.context = undefined;\n",
       "    this.message = undefined;\n",
       "    this.canvas = undefined;\n",
       "    this.rubberband_canvas = undefined;\n",
       "    this.rubberband_context = undefined;\n",
       "    this.format_dropdown = undefined;\n",
       "\n",
       "    this.image_mode = 'full';\n",
       "\n",
       "    this.root = $('<div/>');\n",
       "    this._root_extra_style(this.root)\n",
       "    this.root.attr('style', 'display: inline-block');\n",
       "\n",
       "    $(parent_element).append(this.root);\n",
       "\n",
       "    this._init_header(this);\n",
       "    this._init_canvas(this);\n",
       "    this._init_toolbar(this);\n",
       "\n",
       "    var fig = this;\n",
       "\n",
       "    this.waiting = false;\n",
       "\n",
       "    this.ws.onopen =  function () {\n",
       "            fig.send_message(\"supports_binary\", {value: fig.supports_binary});\n",
       "            fig.send_message(\"send_image_mode\", {});\n",
       "            if (mpl.ratio != 1) {\n",
       "                fig.send_message(\"set_dpi_ratio\", {'dpi_ratio': mpl.ratio});\n",
       "            }\n",
       "            fig.send_message(\"refresh\", {});\n",
       "        }\n",
       "\n",
       "    this.imageObj.onload = function() {\n",
       "            if (fig.image_mode == 'full') {\n",
       "                // Full images could contain transparency (where diff images\n",
       "                // almost always do), so we need to clear the canvas so that\n",
       "                // there is no ghosting.\n",
       "                fig.context.clearRect(0, 0, fig.canvas.width, fig.canvas.height);\n",
       "            }\n",
       "            fig.context.drawImage(fig.imageObj, 0, 0);\n",
       "        };\n",
       "\n",
       "    this.imageObj.onunload = function() {\n",
       "        fig.ws.close();\n",
       "    }\n",
       "\n",
       "    this.ws.onmessage = this._make_on_message_function(this);\n",
       "\n",
       "    this.ondownload = ondownload;\n",
       "}\n",
       "\n",
       "mpl.figure.prototype._init_header = function() {\n",
       "    var titlebar = $(\n",
       "        '<div class=\"ui-dialog-titlebar ui-widget-header ui-corner-all ' +\n",
       "        'ui-helper-clearfix\"/>');\n",
       "    var titletext = $(\n",
       "        '<div class=\"ui-dialog-title\" style=\"width: 100%; ' +\n",
       "        'text-align: center; padding: 3px;\"/>');\n",
       "    titlebar.append(titletext)\n",
       "    this.root.append(titlebar);\n",
       "    this.header = titletext[0];\n",
       "}\n",
       "\n",
       "\n",
       "\n",
       "mpl.figure.prototype._canvas_extra_style = function(canvas_div) {\n",
       "\n",
       "}\n",
       "\n",
       "\n",
       "mpl.figure.prototype._root_extra_style = function(canvas_div) {\n",
       "\n",
       "}\n",
       "\n",
       "mpl.figure.prototype._init_canvas = function() {\n",
       "    var fig = this;\n",
       "\n",
       "    var canvas_div = $('<div/>');\n",
       "\n",
       "    canvas_div.attr('style', 'position: relative; clear: both; outline: 0');\n",
       "\n",
       "    function canvas_keyboard_event(event) {\n",
       "        return fig.key_event(event, event['data']);\n",
       "    }\n",
       "\n",
       "    canvas_div.keydown('key_press', canvas_keyboard_event);\n",
       "    canvas_div.keyup('key_release', canvas_keyboard_event);\n",
       "    this.canvas_div = canvas_div\n",
       "    this._canvas_extra_style(canvas_div)\n",
       "    this.root.append(canvas_div);\n",
       "\n",
       "    var canvas = $('<canvas/>');\n",
       "    canvas.addClass('mpl-canvas');\n",
       "    canvas.attr('style', \"left: 0; top: 0; z-index: 0; outline: 0\")\n",
       "\n",
       "    this.canvas = canvas[0];\n",
       "    this.context = canvas[0].getContext(\"2d\");\n",
       "\n",
       "    var backingStore = this.context.backingStorePixelRatio ||\n",
       "\tthis.context.webkitBackingStorePixelRatio ||\n",
       "\tthis.context.mozBackingStorePixelRatio ||\n",
       "\tthis.context.msBackingStorePixelRatio ||\n",
       "\tthis.context.oBackingStorePixelRatio ||\n",
       "\tthis.context.backingStorePixelRatio || 1;\n",
       "\n",
       "    mpl.ratio = (window.devicePixelRatio || 1) / backingStore;\n",
       "\n",
       "    var rubberband = $('<canvas/>');\n",
       "    rubberband.attr('style', \"position: absolute; left: 0; top: 0; z-index: 1;\")\n",
       "\n",
       "    var pass_mouse_events = true;\n",
       "\n",
       "    canvas_div.resizable({\n",
       "        start: function(event, ui) {\n",
       "            pass_mouse_events = false;\n",
       "        },\n",
       "        resize: function(event, ui) {\n",
       "            fig.request_resize(ui.size.width, ui.size.height);\n",
       "        },\n",
       "        stop: function(event, ui) {\n",
       "            pass_mouse_events = true;\n",
       "            fig.request_resize(ui.size.width, ui.size.height);\n",
       "        },\n",
       "    });\n",
       "\n",
       "    function mouse_event_fn(event) {\n",
       "        if (pass_mouse_events)\n",
       "            return fig.mouse_event(event, event['data']);\n",
       "    }\n",
       "\n",
       "    rubberband.mousedown('button_press', mouse_event_fn);\n",
       "    rubberband.mouseup('button_release', mouse_event_fn);\n",
       "    // Throttle sequential mouse events to 1 every 20ms.\n",
       "    rubberband.mousemove('motion_notify', mouse_event_fn);\n",
       "\n",
       "    rubberband.mouseenter('figure_enter', mouse_event_fn);\n",
       "    rubberband.mouseleave('figure_leave', mouse_event_fn);\n",
       "\n",
       "    canvas_div.on(\"wheel\", function (event) {\n",
       "        event = event.originalEvent;\n",
       "        event['data'] = 'scroll'\n",
       "        if (event.deltaY < 0) {\n",
       "            event.step = 1;\n",
       "        } else {\n",
       "            event.step = -1;\n",
       "        }\n",
       "        mouse_event_fn(event);\n",
       "    });\n",
       "\n",
       "    canvas_div.append(canvas);\n",
       "    canvas_div.append(rubberband);\n",
       "\n",
       "    this.rubberband = rubberband;\n",
       "    this.rubberband_canvas = rubberband[0];\n",
       "    this.rubberband_context = rubberband[0].getContext(\"2d\");\n",
       "    this.rubberband_context.strokeStyle = \"#000000\";\n",
       "\n",
       "    this._resize_canvas = function(width, height) {\n",
       "        // Keep the size of the canvas, canvas container, and rubber band\n",
       "        // canvas in synch.\n",
       "        canvas_div.css('width', width)\n",
       "        canvas_div.css('height', height)\n",
       "\n",
       "        canvas.attr('width', width * mpl.ratio);\n",
       "        canvas.attr('height', height * mpl.ratio);\n",
       "        canvas.attr('style', 'width: ' + width + 'px; height: ' + height + 'px;');\n",
       "\n",
       "        rubberband.attr('width', width);\n",
       "        rubberband.attr('height', height);\n",
       "    }\n",
       "\n",
       "    // Set the figure to an initial 600x600px, this will subsequently be updated\n",
       "    // upon first draw.\n",
       "    this._resize_canvas(600, 600);\n",
       "\n",
       "    // Disable right mouse context menu.\n",
       "    $(this.rubberband_canvas).bind(\"contextmenu\",function(e){\n",
       "        return false;\n",
       "    });\n",
       "\n",
       "    function set_focus () {\n",
       "        canvas.focus();\n",
       "        canvas_div.focus();\n",
       "    }\n",
       "\n",
       "    window.setTimeout(set_focus, 100);\n",
       "}\n",
       "\n",
       "mpl.figure.prototype._init_toolbar = function() {\n",
       "    var fig = this;\n",
       "\n",
       "    var nav_element = $('<div/>');\n",
       "    nav_element.attr('style', 'width: 100%');\n",
       "    this.root.append(nav_element);\n",
       "\n",
       "    // Define a callback function for later on.\n",
       "    function toolbar_event(event) {\n",
       "        return fig.toolbar_button_onclick(event['data']);\n",
       "    }\n",
       "    function toolbar_mouse_event(event) {\n",
       "        return fig.toolbar_button_onmouseover(event['data']);\n",
       "    }\n",
       "\n",
       "    for(var toolbar_ind in mpl.toolbar_items) {\n",
       "        var name = mpl.toolbar_items[toolbar_ind][0];\n",
       "        var tooltip = mpl.toolbar_items[toolbar_ind][1];\n",
       "        var image = mpl.toolbar_items[toolbar_ind][2];\n",
       "        var method_name = mpl.toolbar_items[toolbar_ind][3];\n",
       "\n",
       "        if (!name) {\n",
       "            // put a spacer in here.\n",
       "            continue;\n",
       "        }\n",
       "        var button = $('<button/>');\n",
       "        button.addClass('ui-button ui-widget ui-state-default ui-corner-all ' +\n",
       "                        'ui-button-icon-only');\n",
       "        button.attr('role', 'button');\n",
       "        button.attr('aria-disabled', 'false');\n",
       "        button.click(method_name, toolbar_event);\n",
       "        button.mouseover(tooltip, toolbar_mouse_event);\n",
       "\n",
       "        var icon_img = $('<span/>');\n",
       "        icon_img.addClass('ui-button-icon-primary ui-icon');\n",
       "        icon_img.addClass(image);\n",
       "        icon_img.addClass('ui-corner-all');\n",
       "\n",
       "        var tooltip_span = $('<span/>');\n",
       "        tooltip_span.addClass('ui-button-text');\n",
       "        tooltip_span.html(tooltip);\n",
       "\n",
       "        button.append(icon_img);\n",
       "        button.append(tooltip_span);\n",
       "\n",
       "        nav_element.append(button);\n",
       "    }\n",
       "\n",
       "    var fmt_picker_span = $('<span/>');\n",
       "\n",
       "    var fmt_picker = $('<select/>');\n",
       "    fmt_picker.addClass('mpl-toolbar-option ui-widget ui-widget-content');\n",
       "    fmt_picker_span.append(fmt_picker);\n",
       "    nav_element.append(fmt_picker_span);\n",
       "    this.format_dropdown = fmt_picker[0];\n",
       "\n",
       "    for (var ind in mpl.extensions) {\n",
       "        var fmt = mpl.extensions[ind];\n",
       "        var option = $(\n",
       "            '<option/>', {selected: fmt === mpl.default_extension}).html(fmt);\n",
       "        fmt_picker.append(option);\n",
       "    }\n",
       "\n",
       "    // Add hover states to the ui-buttons\n",
       "    $( \".ui-button\" ).hover(\n",
       "        function() { $(this).addClass(\"ui-state-hover\");},\n",
       "        function() { $(this).removeClass(\"ui-state-hover\");}\n",
       "    );\n",
       "\n",
       "    var status_bar = $('<span class=\"mpl-message\"/>');\n",
       "    nav_element.append(status_bar);\n",
       "    this.message = status_bar[0];\n",
       "}\n",
       "\n",
       "mpl.figure.prototype.request_resize = function(x_pixels, y_pixels) {\n",
       "    // Request matplotlib to resize the figure. Matplotlib will then trigger a resize in the client,\n",
       "    // which will in turn request a refresh of the image.\n",
       "    this.send_message('resize', {'width': x_pixels, 'height': y_pixels});\n",
       "}\n",
       "\n",
       "mpl.figure.prototype.send_message = function(type, properties) {\n",
       "    properties['type'] = type;\n",
       "    properties['figure_id'] = this.id;\n",
       "    this.ws.send(JSON.stringify(properties));\n",
       "}\n",
       "\n",
       "mpl.figure.prototype.send_draw_message = function() {\n",
       "    if (!this.waiting) {\n",
       "        this.waiting = true;\n",
       "        this.ws.send(JSON.stringify({type: \"draw\", figure_id: this.id}));\n",
       "    }\n",
       "}\n",
       "\n",
       "\n",
       "mpl.figure.prototype.handle_save = function(fig, msg) {\n",
       "    var format_dropdown = fig.format_dropdown;\n",
       "    var format = format_dropdown.options[format_dropdown.selectedIndex].value;\n",
       "    fig.ondownload(fig, format);\n",
       "}\n",
       "\n",
       "\n",
       "mpl.figure.prototype.handle_resize = function(fig, msg) {\n",
       "    var size = msg['size'];\n",
       "    if (size[0] != fig.canvas.width || size[1] != fig.canvas.height) {\n",
       "        fig._resize_canvas(size[0], size[1]);\n",
       "        fig.send_message(\"refresh\", {});\n",
       "    };\n",
       "}\n",
       "\n",
       "mpl.figure.prototype.handle_rubberband = function(fig, msg) {\n",
       "    var x0 = msg['x0'] / mpl.ratio;\n",
       "    var y0 = (fig.canvas.height - msg['y0']) / mpl.ratio;\n",
       "    var x1 = msg['x1'] / mpl.ratio;\n",
       "    var y1 = (fig.canvas.height - msg['y1']) / mpl.ratio;\n",
       "    x0 = Math.floor(x0) + 0.5;\n",
       "    y0 = Math.floor(y0) + 0.5;\n",
       "    x1 = Math.floor(x1) + 0.5;\n",
       "    y1 = Math.floor(y1) + 0.5;\n",
       "    var min_x = Math.min(x0, x1);\n",
       "    var min_y = Math.min(y0, y1);\n",
       "    var width = Math.abs(x1 - x0);\n",
       "    var height = Math.abs(y1 - y0);\n",
       "\n",
       "    fig.rubberband_context.clearRect(\n",
       "        0, 0, fig.canvas.width / mpl.ratio, fig.canvas.height / mpl.ratio);\n",
       "\n",
       "    fig.rubberband_context.strokeRect(min_x, min_y, width, height);\n",
       "}\n",
       "\n",
       "mpl.figure.prototype.handle_figure_label = function(fig, msg) {\n",
       "    // Updates the figure title.\n",
       "    fig.header.textContent = msg['label'];\n",
       "}\n",
       "\n",
       "mpl.figure.prototype.handle_cursor = function(fig, msg) {\n",
       "    var cursor = msg['cursor'];\n",
       "    switch(cursor)\n",
       "    {\n",
       "    case 0:\n",
       "        cursor = 'pointer';\n",
       "        break;\n",
       "    case 1:\n",
       "        cursor = 'default';\n",
       "        break;\n",
       "    case 2:\n",
       "        cursor = 'crosshair';\n",
       "        break;\n",
       "    case 3:\n",
       "        cursor = 'move';\n",
       "        break;\n",
       "    }\n",
       "    fig.rubberband_canvas.style.cursor = cursor;\n",
       "}\n",
       "\n",
       "mpl.figure.prototype.handle_message = function(fig, msg) {\n",
       "    fig.message.textContent = msg['message'];\n",
       "}\n",
       "\n",
       "mpl.figure.prototype.handle_draw = function(fig, msg) {\n",
       "    // Request the server to send over a new figure.\n",
       "    fig.send_draw_message();\n",
       "}\n",
       "\n",
       "mpl.figure.prototype.handle_image_mode = function(fig, msg) {\n",
       "    fig.image_mode = msg['mode'];\n",
       "}\n",
       "\n",
       "mpl.figure.prototype.updated_canvas_event = function() {\n",
       "    // Called whenever the canvas gets updated.\n",
       "    this.send_message(\"ack\", {});\n",
       "}\n",
       "\n",
       "// A function to construct a web socket function for onmessage handling.\n",
       "// Called in the figure constructor.\n",
       "mpl.figure.prototype._make_on_message_function = function(fig) {\n",
       "    return function socket_on_message(evt) {\n",
       "        if (evt.data instanceof Blob) {\n",
       "            /* FIXME: We get \"Resource interpreted as Image but\n",
       "             * transferred with MIME type text/plain:\" errors on\n",
       "             * Chrome.  But how to set the MIME type?  It doesn't seem\n",
       "             * to be part of the websocket stream */\n",
       "            evt.data.type = \"image/png\";\n",
       "\n",
       "            /* Free the memory for the previous frames */\n",
       "            if (fig.imageObj.src) {\n",
       "                (window.URL || window.webkitURL).revokeObjectURL(\n",
       "                    fig.imageObj.src);\n",
       "            }\n",
       "\n",
       "            fig.imageObj.src = (window.URL || window.webkitURL).createObjectURL(\n",
       "                evt.data);\n",
       "            fig.updated_canvas_event();\n",
       "            fig.waiting = false;\n",
       "            return;\n",
       "        }\n",
       "        else if (typeof evt.data === 'string' && evt.data.slice(0, 21) == \"data:image/png;base64\") {\n",
       "            fig.imageObj.src = evt.data;\n",
       "            fig.updated_canvas_event();\n",
       "            fig.waiting = false;\n",
       "            return;\n",
       "        }\n",
       "\n",
       "        var msg = JSON.parse(evt.data);\n",
       "        var msg_type = msg['type'];\n",
       "\n",
       "        // Call the  \"handle_{type}\" callback, which takes\n",
       "        // the figure and JSON message as its only arguments.\n",
       "        try {\n",
       "            var callback = fig[\"handle_\" + msg_type];\n",
       "        } catch (e) {\n",
       "            console.log(\"No handler for the '\" + msg_type + \"' message type: \", msg);\n",
       "            return;\n",
       "        }\n",
       "\n",
       "        if (callback) {\n",
       "            try {\n",
       "                // console.log(\"Handling '\" + msg_type + \"' message: \", msg);\n",
       "                callback(fig, msg);\n",
       "            } catch (e) {\n",
       "                console.log(\"Exception inside the 'handler_\" + msg_type + \"' callback:\", e, e.stack, msg);\n",
       "            }\n",
       "        }\n",
       "    };\n",
       "}\n",
       "\n",
       "// from http://stackoverflow.com/questions/1114465/getting-mouse-location-in-canvas\n",
       "mpl.findpos = function(e) {\n",
       "    //this section is from http://www.quirksmode.org/js/events_properties.html\n",
       "    var targ;\n",
       "    if (!e)\n",
       "        e = window.event;\n",
       "    if (e.target)\n",
       "        targ = e.target;\n",
       "    else if (e.srcElement)\n",
       "        targ = e.srcElement;\n",
       "    if (targ.nodeType == 3) // defeat Safari bug\n",
       "        targ = targ.parentNode;\n",
       "\n",
       "    // jQuery normalizes the pageX and pageY\n",
       "    // pageX,Y are the mouse positions relative to the document\n",
       "    // offset() returns the position of the element relative to the document\n",
       "    var x = e.pageX - $(targ).offset().left;\n",
       "    var y = e.pageY - $(targ).offset().top;\n",
       "\n",
       "    return {\"x\": x, \"y\": y};\n",
       "};\n",
       "\n",
       "/*\n",
       " * return a copy of an object with only non-object keys\n",
       " * we need this to avoid circular references\n",
       " * http://stackoverflow.com/a/24161582/3208463\n",
       " */\n",
       "function simpleKeys (original) {\n",
       "  return Object.keys(original).reduce(function (obj, key) {\n",
       "    if (typeof original[key] !== 'object')\n",
       "        obj[key] = original[key]\n",
       "    return obj;\n",
       "  }, {});\n",
       "}\n",
       "\n",
       "mpl.figure.prototype.mouse_event = function(event, name) {\n",
       "    var canvas_pos = mpl.findpos(event)\n",
       "\n",
       "    if (name === 'button_press')\n",
       "    {\n",
       "        this.canvas.focus();\n",
       "        this.canvas_div.focus();\n",
       "    }\n",
       "\n",
       "    var x = canvas_pos.x * mpl.ratio;\n",
       "    var y = canvas_pos.y * mpl.ratio;\n",
       "\n",
       "    this.send_message(name, {x: x, y: y, button: event.button,\n",
       "                             step: event.step,\n",
       "                             guiEvent: simpleKeys(event)});\n",
       "\n",
       "    /* This prevents the web browser from automatically changing to\n",
       "     * the text insertion cursor when the button is pressed.  We want\n",
       "     * to control all of the cursor setting manually through the\n",
       "     * 'cursor' event from matplotlib */\n",
       "    event.preventDefault();\n",
       "    return false;\n",
       "}\n",
       "\n",
       "mpl.figure.prototype._key_event_extra = function(event, name) {\n",
       "    // Handle any extra behaviour associated with a key event\n",
       "}\n",
       "\n",
       "mpl.figure.prototype.key_event = function(event, name) {\n",
       "\n",
       "    // Prevent repeat events\n",
       "    if (name == 'key_press')\n",
       "    {\n",
       "        if (event.which === this._key)\n",
       "            return;\n",
       "        else\n",
       "            this._key = event.which;\n",
       "    }\n",
       "    if (name == 'key_release')\n",
       "        this._key = null;\n",
       "\n",
       "    var value = '';\n",
       "    if (event.ctrlKey && event.which != 17)\n",
       "        value += \"ctrl+\";\n",
       "    if (event.altKey && event.which != 18)\n",
       "        value += \"alt+\";\n",
       "    if (event.shiftKey && event.which != 16)\n",
       "        value += \"shift+\";\n",
       "\n",
       "    value += 'k';\n",
       "    value += event.which.toString();\n",
       "\n",
       "    this._key_event_extra(event, name);\n",
       "\n",
       "    this.send_message(name, {key: value,\n",
       "                             guiEvent: simpleKeys(event)});\n",
       "    return false;\n",
       "}\n",
       "\n",
       "mpl.figure.prototype.toolbar_button_onclick = function(name) {\n",
       "    if (name == 'download') {\n",
       "        this.handle_save(this, null);\n",
       "    } else {\n",
       "        this.send_message(\"toolbar_button\", {name: name});\n",
       "    }\n",
       "};\n",
       "\n",
       "mpl.figure.prototype.toolbar_button_onmouseover = function(tooltip) {\n",
       "    this.message.textContent = tooltip;\n",
       "};\n",
       "mpl.toolbar_items = [[\"Home\", \"Reset original view\", \"fa fa-home icon-home\", \"home\"], [\"Back\", \"Back to previous view\", \"fa fa-arrow-left icon-arrow-left\", \"back\"], [\"Forward\", \"Forward to next view\", \"fa fa-arrow-right icon-arrow-right\", \"forward\"], [\"\", \"\", \"\", \"\"], [\"Pan\", \"Pan axes with left mouse, zoom with right\", \"fa fa-arrows icon-move\", \"pan\"], [\"Zoom\", \"Zoom to rectangle\", \"fa fa-square-o icon-check-empty\", \"zoom\"], [\"\", \"\", \"\", \"\"], [\"Download\", \"Download plot\", \"fa fa-floppy-o icon-save\", \"download\"]];\n",
       "\n",
       "mpl.extensions = [\"eps\", \"jpeg\", \"pdf\", \"png\", \"ps\", \"raw\", \"svg\", \"tif\"];\n",
       "\n",
       "mpl.default_extension = \"png\";var comm_websocket_adapter = function(comm) {\n",
       "    // Create a \"websocket\"-like object which calls the given IPython comm\n",
       "    // object with the appropriate methods. Currently this is a non binary\n",
       "    // socket, so there is still some room for performance tuning.\n",
       "    var ws = {};\n",
       "\n",
       "    ws.close = function() {\n",
       "        comm.close()\n",
       "    };\n",
       "    ws.send = function(m) {\n",
       "        //console.log('sending', m);\n",
       "        comm.send(m);\n",
       "    };\n",
       "    // Register the callback with on_msg.\n",
       "    comm.on_msg(function(msg) {\n",
       "        //console.log('receiving', msg['content']['data'], msg);\n",
       "        // Pass the mpl event to the overridden (by mpl) onmessage function.\n",
       "        ws.onmessage(msg['content']['data'])\n",
       "    });\n",
       "    return ws;\n",
       "}\n",
       "\n",
       "mpl.mpl_figure_comm = function(comm, msg) {\n",
       "    // This is the function which gets called when the mpl process\n",
       "    // starts-up an IPython Comm through the \"matplotlib\" channel.\n",
       "\n",
       "    var id = msg.content.data.id;\n",
       "    // Get hold of the div created by the display call when the Comm\n",
       "    // socket was opened in Python.\n",
       "    var element = $(\"#\" + id);\n",
       "    var ws_proxy = comm_websocket_adapter(comm)\n",
       "\n",
       "    function ondownload(figure, format) {\n",
       "        window.open(figure.imageObj.src);\n",
       "    }\n",
       "\n",
       "    var fig = new mpl.figure(id, ws_proxy,\n",
       "                           ondownload,\n",
       "                           element.get(0));\n",
       "\n",
       "    // Call onopen now - mpl needs it, as it is assuming we've passed it a real\n",
       "    // web socket which is closed, not our websocket->open comm proxy.\n",
       "    ws_proxy.onopen();\n",
       "\n",
       "    fig.parent_element = element.get(0);\n",
       "    fig.cell_info = mpl.find_output_cell(\"<div id='\" + id + \"'></div>\");\n",
       "    if (!fig.cell_info) {\n",
       "        console.error(\"Failed to find cell for figure\", id, fig);\n",
       "        return;\n",
       "    }\n",
       "\n",
       "    var output_index = fig.cell_info[2]\n",
       "    var cell = fig.cell_info[0];\n",
       "\n",
       "};\n",
       "\n",
       "mpl.figure.prototype.handle_close = function(fig, msg) {\n",
       "    var width = fig.canvas.width/mpl.ratio\n",
       "    fig.root.unbind('remove')\n",
       "\n",
       "    // Update the output cell to use the data from the current canvas.\n",
       "    fig.push_to_output();\n",
       "    var dataURL = fig.canvas.toDataURL();\n",
       "    // Re-enable the keyboard manager in IPython - without this line, in FF,\n",
       "    // the notebook keyboard shortcuts fail.\n",
       "    IPython.keyboard_manager.enable()\n",
       "    $(fig.parent_element).html('<img src=\"' + dataURL + '\" width=\"' + width + '\">');\n",
       "    fig.close_ws(fig, msg);\n",
       "}\n",
       "\n",
       "mpl.figure.prototype.close_ws = function(fig, msg){\n",
       "    fig.send_message('closing', msg);\n",
       "    // fig.ws.close()\n",
       "}\n",
       "\n",
       "mpl.figure.prototype.push_to_output = function(remove_interactive) {\n",
       "    // Turn the data on the canvas into data in the output cell.\n",
       "    var width = this.canvas.width/mpl.ratio\n",
       "    var dataURL = this.canvas.toDataURL();\n",
       "    this.cell_info[1]['text/html'] = '<img src=\"' + dataURL + '\" width=\"' + width + '\">';\n",
       "}\n",
       "\n",
       "mpl.figure.prototype.updated_canvas_event = function() {\n",
       "    // Tell IPython that the notebook contents must change.\n",
       "    IPython.notebook.set_dirty(true);\n",
       "    this.send_message(\"ack\", {});\n",
       "    var fig = this;\n",
       "    // Wait a second, then push the new image to the DOM so\n",
       "    // that it is saved nicely (might be nice to debounce this).\n",
       "    setTimeout(function () { fig.push_to_output() }, 1000);\n",
       "}\n",
       "\n",
       "mpl.figure.prototype._init_toolbar = function() {\n",
       "    var fig = this;\n",
       "\n",
       "    var nav_element = $('<div/>');\n",
       "    nav_element.attr('style', 'width: 100%');\n",
       "    this.root.append(nav_element);\n",
       "\n",
       "    // Define a callback function for later on.\n",
       "    function toolbar_event(event) {\n",
       "        return fig.toolbar_button_onclick(event['data']);\n",
       "    }\n",
       "    function toolbar_mouse_event(event) {\n",
       "        return fig.toolbar_button_onmouseover(event['data']);\n",
       "    }\n",
       "\n",
       "    for(var toolbar_ind in mpl.toolbar_items){\n",
       "        var name = mpl.toolbar_items[toolbar_ind][0];\n",
       "        var tooltip = mpl.toolbar_items[toolbar_ind][1];\n",
       "        var image = mpl.toolbar_items[toolbar_ind][2];\n",
       "        var method_name = mpl.toolbar_items[toolbar_ind][3];\n",
       "\n",
       "        if (!name) { continue; };\n",
       "\n",
       "        var button = $('<button class=\"btn btn-default\" href=\"#\" title=\"' + name + '\"><i class=\"fa ' + image + ' fa-lg\"></i></button>');\n",
       "        button.click(method_name, toolbar_event);\n",
       "        button.mouseover(tooltip, toolbar_mouse_event);\n",
       "        nav_element.append(button);\n",
       "    }\n",
       "\n",
       "    // Add the status bar.\n",
       "    var status_bar = $('<span class=\"mpl-message\" style=\"text-align:right; float: right;\"/>');\n",
       "    nav_element.append(status_bar);\n",
       "    this.message = status_bar[0];\n",
       "\n",
       "    // Add the close button to the window.\n",
       "    var buttongrp = $('<div class=\"btn-group inline pull-right\"></div>');\n",
       "    var button = $('<button class=\"btn btn-mini btn-primary\" href=\"#\" title=\"Stop Interaction\"><i class=\"fa fa-power-off icon-remove icon-large\"></i></button>');\n",
       "    button.click(function (evt) { fig.handle_close(fig, {}); } );\n",
       "    button.mouseover('Stop Interaction', toolbar_mouse_event);\n",
       "    buttongrp.append(button);\n",
       "    var titlebar = this.root.find($('.ui-dialog-titlebar'));\n",
       "    titlebar.prepend(buttongrp);\n",
       "}\n",
       "\n",
       "mpl.figure.prototype._root_extra_style = function(el){\n",
       "    var fig = this\n",
       "    el.on(\"remove\", function(){\n",
       "\tfig.close_ws(fig, {});\n",
       "    });\n",
       "}\n",
       "\n",
       "mpl.figure.prototype._canvas_extra_style = function(el){\n",
       "    // this is important to make the div 'focusable\n",
       "    el.attr('tabindex', 0)\n",
       "    // reach out to IPython and tell the keyboard manager to turn it's self\n",
       "    // off when our div gets focus\n",
       "\n",
       "    // location in version 3\n",
       "    if (IPython.notebook.keyboard_manager) {\n",
       "        IPython.notebook.keyboard_manager.register_events(el);\n",
       "    }\n",
       "    else {\n",
       "        // location in version 2\n",
       "        IPython.keyboard_manager.register_events(el);\n",
       "    }\n",
       "\n",
       "}\n",
       "\n",
       "mpl.figure.prototype._key_event_extra = function(event, name) {\n",
       "    var manager = IPython.notebook.keyboard_manager;\n",
       "    if (!manager)\n",
       "        manager = IPython.keyboard_manager;\n",
       "\n",
       "    // Check for shift+enter\n",
       "    if (event.shiftKey && event.which == 13) {\n",
       "        this.canvas_div.blur();\n",
       "        // select the cell after this one\n",
       "        var index = IPython.notebook.find_cell_index(this.cell_info[0]);\n",
       "        IPython.notebook.select(index + 1);\n",
       "    }\n",
       "}\n",
       "\n",
       "mpl.figure.prototype.handle_save = function(fig, msg) {\n",
       "    fig.ondownload(fig, null);\n",
       "}\n",
       "\n",
       "\n",
       "mpl.find_output_cell = function(html_output) {\n",
       "    // Return the cell and output element which can be found *uniquely* in the notebook.\n",
       "    // Note - this is a bit hacky, but it is done because the \"notebook_saving.Notebook\"\n",
       "    // IPython event is triggered only after the cells have been serialised, which for\n",
       "    // our purposes (turning an active figure into a static one), is too late.\n",
       "    var cells = IPython.notebook.get_cells();\n",
       "    var ncells = cells.length;\n",
       "    for (var i=0; i<ncells; i++) {\n",
       "        var cell = cells[i];\n",
       "        if (cell.cell_type === 'code'){\n",
       "            for (var j=0; j<cell.output_area.outputs.length; j++) {\n",
       "                var data = cell.output_area.outputs[j];\n",
       "                if (data.data) {\n",
       "                    // IPython >= 3 moved mimebundle to data attribute of output\n",
       "                    data = data.data;\n",
       "                }\n",
       "                if (data['text/html'] == html_output) {\n",
       "                    return [cell, data, j];\n",
       "                }\n",
       "            }\n",
       "        }\n",
       "    }\n",
       "}\n",
       "\n",
       "// Register the function which deals with the matplotlib target/channel.\n",
       "// The kernel may be null if the page has been refreshed.\n",
       "if (IPython.notebook.kernel != null) {\n",
       "    IPython.notebook.kernel.comm_manager.register_target('matplotlib', mpl.mpl_figure_comm);\n",
       "}\n"
      ],
      "text/plain": [
       "<IPython.core.display.Javascript object>"
      ]
     },
     "metadata": {},
     "output_type": "display_data"
    },
    {
     "data": {
      "text/html": [
       "<img src=\"data:image/png;base64,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\" width=\"798.75\">"
      ],
      "text/plain": [
       "<IPython.core.display.HTML object>"
      ]
     },
     "metadata": {},
     "output_type": "display_data"
    }
   ],
   "source": [
    "import matplotlib.pyplot as plt\n",
    "# import matplotlib.animation as animation\n",
    "# import seaborn as sns\n",
    "# import pandas as pd\n",
    "import random\n",
    "from operator import add\n",
    "import numpy as np\n",
    "from celluloid import Camera\n",
    "\n",
    "#df = pd.read_csv(\"somedata.csv\") \n",
    "\n",
    "fig = plt.figure(figsize=(6,3))\n",
    "\n",
    "#def animate(i):\n",
    "#    data = df.iloc[:int(i+1)] \n",
    "#    graph = sns.barplot(y=data[''], x=data.index, data=data, color=\"blue\")\n",
    "    \n",
    "#ani = animation.FuncAnimation(fig, animate, frames=len(data.index),interval=500,repeat=False)\n",
    "#myni=animation.FuncAnimation(fig, animate, 5, interval=500, repeat=False)\n",
    "\n",
    "\n",
    "L=[0,0]\n",
    "\n",
    "def rando():\n",
    "    k=random.randint(0,1)\n",
    "    global L\n",
    "    L=list(map(add,[k,1-k],L))\n",
    "    return L\n",
    "\n",
    "def animate():\n",
    "    rando()\n",
    "    graph=plt.bar([0,1],L)\n",
    "\n",
    "camera=Camera(fig)\n",
    "for i in range(100):\n",
    "    animate()\n",
    "    plt.show()\n",
    "    camera.snap()\n",
    "a=camera.animate()\n",
    "a.save(\"out.mp4\")"
   ]
  },
  {
   "cell_type": "code",
   "execution_count": 349,
   "metadata": {},
   "outputs": [
    {
     "name": "stdout",
     "output_type": "stream",
     "text": [
      "3.6.3\n"
     ]
    }
   ],
   "source": [
    "from platform import python_version\n",
    "\n",
    "print(python_version())"
   ]
  },
  {
   "cell_type": "code",
   "execution_count": null,
   "metadata": {
    "collapsed": true
   },
   "outputs": [],
   "source": []
  }
 ],
 "metadata": {
  "kernelspec": {
   "display_name": "Python 3",
   "language": "python",
   "name": "python3"
  },
  "language_info": {
   "codemirror_mode": {
    "name": "ipython",
    "version": 3
   },
   "file_extension": ".py",
   "mimetype": "text/x-python",
   "name": "python",
   "nbconvert_exporter": "python",
   "pygments_lexer": "ipython3",
   "version": "3.6.3"
  }
 },
 "nbformat": 4,
 "nbformat_minor": 2
}
